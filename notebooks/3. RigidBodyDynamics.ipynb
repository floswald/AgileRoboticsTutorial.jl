{
 "cells": [
  {
   "cell_type": "markdown",
   "metadata": {},
   "source": [
    "# Setup"
   ]
  },
  {
   "cell_type": "code",
   "execution_count": 1,
   "metadata": {
    "collapsed": false
   },
   "outputs": [
    {
     "name": "stderr",
     "output_type": "stream",
     "text": [
      "\u001b[1m\u001b[34mINFO: Checking out RigidBodyDynamics robocon2017...\n",
      "\u001b[0m\u001b[1m\u001b[34mINFO: Pulling RigidBodyDynamics latest robocon2017...\n",
      "\u001b[0m\u001b[1m\u001b[34mINFO: No packages to install, update or remove\n",
      "\u001b[0m\u001b[1m\u001b[34mINFO: Nothing to be done\n",
      "\u001b[0m\u001b[1m\u001b[34mINFO: METADATA is out-of-date — you may not have the latest version of RigidBodyTreeInspector\n",
      "\u001b[0m\u001b[1m\u001b[34mINFO: Use `Pkg.update()` to get the latest versions of your packages\n",
      "\u001b[0m\u001b[1m\u001b[34mINFO: Checking out RigidBodyTreeInspector robocon2017...\n",
      "\u001b[0m\u001b[1m\u001b[34mINFO: Pulling RigidBodyTreeInspector latest robocon2017...\n",
      "\u001b[0m\u001b[1m\u001b[34mINFO: No packages to install, update or remove\n",
      "\u001b[0m"
     ]
    }
   ],
   "source": [
    "# Check out the robocon2017 branch of some of our packages:\n",
    "Pkg.checkout(\"RigidBodyDynamics\", \"robocon2017\")\n",
    "\n",
    "if !isdir(Pkg.dir(\"DrakeVisualizer\"))\n",
    "    Pkg.clone(\"https://github.com/rdeits/DrakeVisualizer.jl\")\n",
    "    Pkg.checkout(\"DrakeVisualizer\", \"robocon2017\")\n",
    "    Pkg.build(\"DrakeVisualizer\")\n",
    "end\n",
    "\n",
    "Pkg.add(\"RigidBodyTreeInspector\")\n",
    "Pkg.checkout(\"RigidBodyTreeInspector\", \"robocon2017\")"
   ]
  },
  {
   "cell_type": "code",
   "execution_count": 2,
   "metadata": {
    "collapsed": false
   },
   "outputs": [
    {
     "name": "stderr",
     "output_type": "stream",
     "text": [
      "\u001b[1m\u001b[34mINFO: Recompiling stale cache file /Users/twan/code/julia/robocon2017/lib/v0.5/RigidBodyDynamics.ji for module RigidBodyDynamics.\n",
      "\u001b[0m"
     ]
    },
    {
     "data": {
      "text/html": [
       "<div id=\"interact-js-shim\">\n",
       "    <script charset=\"utf-8\">\n",
       "(function (IPython, $, _, MathJax) {\n",
       "    $.event.special.destroyed = {\n",
       "\tremove: function(o) {\n",
       "\t    if (o.handler) {\n",
       "\t\to.handler.apply(this, arguments)\n",
       "\t    }\n",
       "\t}\n",
       "    }\n",
       "\n",
       "    var OutputArea = IPython.version >= \"4.0.0\" ? require(\"notebook/js/outputarea\").OutputArea : IPython.OutputArea;\n",
       "\n",
       "    var redrawValue = function (container, type, val) {\n",
       "\tvar selector = $(\"<div/>\");\n",
       "\tvar oa = new OutputArea(_.extend(selector, {\n",
       "\t    selector: selector,\n",
       "\t    prompt_area: true,\n",
       "\t    events: IPython.events,\n",
       "\t    keyboard_manager: IPython.keyboard_manager\n",
       "\t})); // Hack to work with IPython 2.1.0\n",
       "\n",
       "\tswitch (type) {\n",
       "\tcase \"image/png\":\n",
       "            var _src = 'data:' + type + ';base64,' + val;\n",
       "\t    $(container).find(\"img\").attr('src', _src);\n",
       "\t    break;\n",
       "\tcase \"text/latex\":\n",
       "\t\tif (MathJax){\n",
       "\t\t\tvar math = MathJax.Hub.getAllJax(container)[0];\n",
       "\t\t\tMathJax.Hub.Queue([\"Text\", math, val.replace(/^\\${1,2}|\\${1,2}$/g, '')]);\n",
       "\t\t\tbreak;\n",
       "\t\t}\n",
       "\tdefault:\n",
       "\t    var toinsert = OutputArea.append_map[type].apply(\n",
       "\t\toa, [val, {}, selector]\n",
       "\t    );\n",
       "\t    $(container).empty().append(toinsert.contents());\n",
       "\t    selector.remove();\n",
       "\t}\n",
       "    }\n",
       "\n",
       "\n",
       "    $(document).ready(function() {\n",
       "\tfunction initComm(evt, data) {\n",
       "\t    var comm_manager = data.kernel.comm_manager;\n",
       "        //_.extend(comm_manager.targets, require(\"widgets/js/widget\"))\n",
       "\t    comm_manager.register_target(\"Signal\", function (comm) {\n",
       "            comm.on_msg(function (msg) {\n",
       "                var val = msg.content.data.value;\n",
       "                $(\".signal-\" + comm.comm_id).each(function() {\n",
       "                var type = $(this).data(\"type\");\n",
       "                if (typeof(val[type]) !== \"undefined\" && val[type] !== null) {\n",
       "                    redrawValue(this, type, val[type], type);\n",
       "                }\n",
       "                });\n",
       "                delete val;\n",
       "                delete msg.content.data.value;\n",
       "            });\n",
       "\t    });\n",
       "\n",
       "\t    // coordingate with Comm and redraw Signals\n",
       "\t    // XXX: Test using Reactive here to improve performance\n",
       "\t    $([IPython.events]).on(\n",
       "\t\t'output_appended.OutputArea', function (event, type, value, md, toinsert) {\n",
       "\t\t    if (md && md.reactive) {\n",
       "                // console.log(md.comm_id);\n",
       "                toinsert.addClass(\"signal-\" + md.comm_id);\n",
       "                toinsert.data(\"type\", type);\n",
       "                // Signal back indicating the mimetype required\n",
       "                var comm_manager = IPython.notebook.kernel.comm_manager;\n",
       "                var comm = comm_manager.comms[md.comm_id];\n",
       "                comm.then(function (c) {\n",
       "                    c.send({action: \"subscribe_mime\",\n",
       "                       mime: type});\n",
       "                    toinsert.bind(\"destroyed\", function() {\n",
       "                        c.send({action: \"unsubscribe_mime\",\n",
       "                               mime: type});\n",
       "                    });\n",
       "                })\n",
       "\t\t    }\n",
       "\t    });\n",
       "\t}\n",
       "\n",
       "\ttry {\n",
       "\t    // try to initialize right away. otherwise, wait on the status_started event.\n",
       "\t    initComm(undefined, IPython.notebook);\n",
       "\t} catch (e) {\n",
       "\t    $([IPython.events]).on('kernel_created.Kernel kernel_created.Session', initComm);\n",
       "\t}\n",
       "    });\n",
       "})(IPython, jQuery, _, MathJax);\n",
       "</script>\n",
       "    <script>\n",
       "        window.interactLoadedFlag = true\n",
       "       $(\"#interact-js-shim\").bind(\"destroyed\", function () {\n",
       "           if (window.interactLoadedFlag) {\n",
       "               console.warn(\"JavaScript required by Interact will be removed if you remove this cell or run using Interact more than once.\")\n",
       "           }\n",
       "       })\n",
       "       $([IPython.events]).on(\"kernel_starting.Kernel kernel_restarting.Kernel\", function () { window.interactLoadedFlag = false })\n",
       "   </script>\n",
       "</div>"
      ]
     },
     "metadata": {},
     "output_type": "display_data"
    }
   ],
   "source": [
    "using RigidBodyDynamics\n",
    "using StaticArrays\n",
    "using Plots\n",
    "using RigidBodyTreeInspector\n",
    "using DrakeVisualizer"
   ]
  },
  {
   "cell_type": "markdown",
   "metadata": {},
   "source": [
    "# Creating a double pendulum `Mechanism`\n",
    "\n",
    "We're going to create a simple `Mechanism` that represents a [double pendulum](https://en.wikipedia.org/wiki/Double_pendulum). The `Mechanism` type can be thought of as an interconnection of rigid bodies and joints."
   ]
  },
  {
   "cell_type": "markdown",
   "metadata": {},
   "source": [
    "One way of creating a `Mechanism` is by parsing a [URDF](http://wiki.ros.org/urdf) file:"
   ]
  },
  {
   "cell_type": "code",
   "execution_count": 3,
   "metadata": {
    "collapsed": false
   },
   "outputs": [
    {
     "data": {
      "text/plain": [
       "Vertex: world (root)\n",
       "  Vertex: base_link, Edge: base_link_to_world\n",
       "    Vertex: upper_link, Edge: shoulder\n",
       "      Vertex: lower_link, Edge: elbow"
      ]
     },
     "execution_count": 3,
     "metadata": {},
     "output_type": "execute_result"
    }
   ],
   "source": [
    "urdf = \"data/doublependulum.urdf\"\n",
    "doublependulum = parse_urdf(Float64, urdf)"
   ]
  },
  {
   "cell_type": "markdown",
   "metadata": {},
   "source": [
    "Here are the bodies of our double pendulum:"
   ]
  },
  {
   "cell_type": "code",
   "execution_count": 4,
   "metadata": {
    "collapsed": false
   },
   "outputs": [
    {
     "data": {
      "text/plain": [
       "4-element Array{RigidBodyDynamics.RigidBody{Float64},1}:\n",
       " RigidBody: \"world\"     \n",
       " RigidBody: \"base_link\" \n",
       " RigidBody: \"upper_link\"\n",
       " RigidBody: \"lower_link\""
      ]
     },
     "execution_count": 4,
     "metadata": {},
     "output_type": "execute_result"
    }
   ],
   "source": [
    "collect(bodies(doublependulum))"
   ]
  },
  {
   "cell_type": "markdown",
   "metadata": {},
   "source": [
    "And here are its joints:"
   ]
  },
  {
   "cell_type": "code",
   "execution_count": 5,
   "metadata": {
    "collapsed": false
   },
   "outputs": [
    {
     "data": {
      "text/plain": [
       "3-element Array{RigidBodyDynamics.Joint{Float64},1}:\n",
       " Joint \"base_link_to_world\": Fixed joint                 \n",
       " Joint \"shoulder\": Revolute joint with axis [0.0,1.0,0.0]\n",
       " Joint \"elbow\": Revolute joint with axis [0.0,1.0,0.0]   "
      ]
     },
     "execution_count": 5,
     "metadata": {},
     "output_type": "execute_result"
    }
   ],
   "source": [
    "collect(joints(doublependulum))"
   ]
  },
  {
   "cell_type": "markdown",
   "metadata": {},
   "source": [
    "# The state of a `Mechanism`"
   ]
  },
  {
   "cell_type": "markdown",
   "metadata": {},
   "source": [
    "A `Mechanism` stores the joint/rigid body layout, but no state information. State information is separated out into a `MechanismState` object:"
   ]
  },
  {
   "cell_type": "code",
   "execution_count": 6,
   "metadata": {
    "collapsed": false
   },
   "outputs": [
    {
     "data": {
      "text/plain": [
       "MechanismState{Float64, Float64, Float64}(…)"
      ]
     },
     "execution_count": 6,
     "metadata": {},
     "output_type": "execute_result"
    }
   ],
   "source": [
    "const state = MechanismState(Float64, doublependulum)"
   ]
  },
  {
   "cell_type": "markdown",
   "metadata": {},
   "source": [
    "Let's first set the configurations and velocities of the joints:"
   ]
  },
  {
   "cell_type": "code",
   "execution_count": 7,
   "metadata": {
    "collapsed": false
   },
   "outputs": [],
   "source": [
    "fixedjoint, shoulder, elbow = (joints(doublependulum)...)\n",
    "configuration(state, shoulder)[:] = 0.3\n",
    "configuration(state, elbow)[:] = 0.4\n",
    "velocity(state, shoulder)[:] = 1.\n",
    "velocity(state, elbow)[:] = 2.;"
   ]
  },
  {
   "cell_type": "markdown",
   "metadata": {},
   "source": [
    "**Important**: a `MechanismState` contains cache variables that depend on the configurations and velocities of the joints. These need to be invalidated when the configurations and velocities are changed. To do this, call"
   ]
  },
  {
   "cell_type": "code",
   "execution_count": 8,
   "metadata": {
    "collapsed": true
   },
   "outputs": [],
   "source": [
    "setdirty!(state)"
   ]
  },
  {
   "cell_type": "markdown",
   "metadata": {},
   "source": [
    "The joint configurations and velocities are stored as `Vector`s (denoted $q$ and $v$ respectively in this package) inside the `MechanismState` object:"
   ]
  },
  {
   "cell_type": "code",
   "execution_count": 9,
   "metadata": {
    "collapsed": false
   },
   "outputs": [
    {
     "name": "stdout",
     "output_type": "stream",
     "text": [
      "q = configuration_vector(state) = [0.3,0.4]\n",
      "v = velocity_vector(state) = [1.0,2.0]\n"
     ]
    }
   ],
   "source": [
    "@show q = configuration_vector(state)\n",
    "@show v = velocity_vector(state);"
   ]
  },
  {
   "cell_type": "markdown",
   "metadata": {},
   "source": [
    "# Kinematics"
   ]
  },
  {
   "cell_type": "markdown",
   "metadata": {},
   "source": [
    "We are now ready to do kinematics. Here's how you transform a point at the origin of the frame after the elbow joint to world frame:"
   ]
  },
  {
   "cell_type": "code",
   "execution_count": 10,
   "metadata": {
    "collapsed": false
   },
   "outputs": [
    {
     "data": {
      "text/plain": [
       "Point3D in \"world\": [-0.29552,0.25,-0.955336]"
      ]
     },
     "execution_count": 10,
     "metadata": {},
     "output_type": "execute_result"
    }
   ],
   "source": [
    "world = root_body(doublependulum)\n",
    "transform(state, Point3D(elbow.frameAfter, zeros(SVector{3})), default_frame(world))"
   ]
  },
  {
   "cell_type": "markdown",
   "metadata": {},
   "source": [
    "Other objects like `Wrench`es, `Twist`s, and `SpatialInertia`s, etc. can be transformed in similar fashion."
   ]
  },
  {
   "cell_type": "markdown",
   "metadata": {},
   "source": [
    "You can also ask for the homogeneous transform to world:"
   ]
  },
  {
   "cell_type": "code",
   "execution_count": 11,
   "metadata": {
    "collapsed": false
   },
   "outputs": [
    {
     "data": {
      "text/plain": [
       "Transform3D from \"after_elbow\" to \"world\":\n",
       "rotation: 0.7000000000000001 rad about [0.0,1.0,0.0], translation: [-0.29552,0.25,-0.955336]\n"
      ]
     },
     "execution_count": 11,
     "metadata": {},
     "output_type": "execute_result"
    }
   ],
   "source": [
    "transform_to_root(state, elbow.frameAfter)"
   ]
  },
  {
   "cell_type": "markdown",
   "metadata": {},
   "source": [
    "Or a relative transform:"
   ]
  },
  {
   "cell_type": "code",
   "execution_count": 12,
   "metadata": {
    "collapsed": false
   },
   "outputs": [
    {
     "data": {
      "text/plain": [
       "Transform3D from \"after_elbow\" to \"after_shoulder\":\n",
       "rotation: 0.40000000000000024 rad about [2.65182e-8,1.0,0.0], translation: [0.0,0.1,-1.0]\n"
      ]
     },
     "execution_count": 12,
     "metadata": {},
     "output_type": "execute_result"
    }
   ],
   "source": [
    "relative_transform(state, elbow.frameAfter, shoulder.frameAfter)"
   ]
  },
  {
   "cell_type": "markdown",
   "metadata": {},
   "source": [
    "Here's the center of mass of the double pendulum:"
   ]
  },
  {
   "cell_type": "code",
   "execution_count": 13,
   "metadata": {
    "collapsed": false
   },
   "outputs": [
    {
     "data": {
      "text/plain": [
       "Point3D in \"world\": [-0.543749,0.2,-1.09892]"
      ]
     },
     "execution_count": 13,
     "metadata": {},
     "output_type": "execute_result"
    }
   ],
   "source": [
    "center_of_mass(state)"
   ]
  },
  {
   "cell_type": "markdown",
   "metadata": {},
   "source": [
    "# Dynamics"
   ]
  },
  {
   "cell_type": "markdown",
   "metadata": {},
   "source": [
    "A `MechanismState` can also be used to compute quantities related to the dynamics of the `Mechanism`. Here we compute the mass matrix:"
   ]
  },
  {
   "cell_type": "code",
   "execution_count": 14,
   "metadata": {
    "collapsed": false
   },
   "outputs": [
    {
     "data": {
      "text/plain": [
       "2×2 Symmetric{Float64,Array{Float64,2}}:\n",
       " 4.50512  2.25106\n",
       " 2.25106  1.33   "
      ]
     },
     "execution_count": 14,
     "metadata": {},
     "output_type": "execute_result"
    }
   ],
   "source": [
    "mass_matrix(state)"
   ]
  },
  {
   "cell_type": "markdown",
   "metadata": {},
   "source": [
    "Here's the documentation for `mass_matrix` by the way:"
   ]
  },
  {
   "cell_type": "code",
   "execution_count": 15,
   "metadata": {
    "collapsed": false
   },
   "outputs": [
    {
     "name": "stdout",
     "output_type": "stream",
     "text": [
      "search: \u001b[1mm\u001b[22m\u001b[1ma\u001b[22m\u001b[1ms\u001b[22m\u001b[1ms\u001b[22m\u001b[1m_\u001b[22m\u001b[1mm\u001b[22m\u001b[1ma\u001b[22m\u001b[1mt\u001b[22m\u001b[1mr\u001b[22m\u001b[1mi\u001b[22m\u001b[1mx\u001b[22m \u001b[1mm\u001b[22m\u001b[1ma\u001b[22m\u001b[1ms\u001b[22m\u001b[1ms\u001b[22m\u001b[1m_\u001b[22m\u001b[1mm\u001b[22m\u001b[1ma\u001b[22m\u001b[1mt\u001b[22m\u001b[1mr\u001b[22m\u001b[1mi\u001b[22m\u001b[1mx\u001b[22m!\n",
      "\n"
     ]
    },
    {
     "data": {
      "text/markdown": [
       "```julia\n",
       "mass_matrix(state)\n",
       "\n",
       "```\n",
       "\n",
       "Compute the joint-space mass matrix (also known as the inertia matrix) of the `Mechanism` in the given state, i.e., the matrix $M(q)$ in the unconstrained joint-space equations of motion\n",
       "\n",
       "$$\n",
       "M(q) \\dot{v} + c(q, v, w_\\text{ext}) = \\tau\n",
       "$$\n",
       "\n",
       "This method implements the composite rigid body algorithm.\n"
      ],
      "text/plain": [
       "```julia\n",
       "mass_matrix(state)\n",
       "\n",
       "```\n",
       "\n",
       "Compute the joint-space mass matrix (also known as the inertia matrix) of the `Mechanism` in the given state, i.e., the matrix $M(q)$ in the unconstrained joint-space equations of motion\n",
       "\n",
       "$$\n",
       "M(q) \\dot{v} + c(q, v, w_\\text{ext}) = \\tau\n",
       "$$\n",
       "\n",
       "This method implements the composite rigid body algorithm.\n"
      ]
     },
     "execution_count": 15,
     "metadata": {},
     "output_type": "execute_result"
    }
   ],
   "source": [
    "?mass_matrix"
   ]
  },
  {
   "cell_type": "markdown",
   "metadata": {},
   "source": [
    "Note that there is also a zero-allocation version, `mass_matrix!` (the `!` at the end of a method is a Julia convention signifying that the function is 'in-place', i.e. modifies its input data)."
   ]
  },
  {
   "cell_type": "markdown",
   "metadata": {},
   "source": [
    "We can do inverse dynamics as follows (note again that there is a non-allocating version of this method as well):"
   ]
  },
  {
   "cell_type": "code",
   "execution_count": 16,
   "metadata": {
    "collapsed": false
   },
   "outputs": [
    {
     "data": {
      "text/plain": [
       "2-element Array{Float64,1}:\n",
       " 23.3164\n",
       " 15.2013"
      ]
     },
     "execution_count": 16,
     "metadata": {},
     "output_type": "execute_result"
    }
   ],
   "source": [
    "v̇ = [2.; 3.] # the joint acceleration vector, i.e., the time derivative of the joint velocity vector v\n",
    "inverse_dynamics(state, v̇)"
   ]
  },
  {
   "cell_type": "markdown",
   "metadata": {},
   "source": [
    "# Simulation"
   ]
  },
  {
   "cell_type": "markdown",
   "metadata": {},
   "source": [
    "Let's simulate the double pendulum for 5 seconds, starting from the state we defined earlier. For this, we can use the basic `simulate` function:"
   ]
  },
  {
   "cell_type": "code",
   "execution_count": 17,
   "metadata": {
    "collapsed": false
   },
   "outputs": [],
   "source": [
    "ts, qs, vs = simulate(state, 5., Δt = 1e-3);"
   ]
  },
  {
   "cell_type": "markdown",
   "metadata": {},
   "source": [
    "`simulate` returns a vector of times (`ts`) and associated joint configurations (`qs`) and velocities (`vs`).\n",
    "\n",
    "*Note:* A lower level interface for simulation/ODE integration with more options is also available. Consult the documentation for more information."
   ]
  },
  {
   "cell_type": "markdown",
   "metadata": {},
   "source": [
    "We can plot the trajectories using e.g. Plots.jl:"
   ]
  },
  {
   "cell_type": "code",
   "execution_count": 18,
   "metadata": {
    "collapsed": false
   },
   "outputs": [
    {
     "data": {
      "text/html": [
       "<?xml version=\"1.0\" encoding=\"utf-8\"?>\n",
       "<svg xmlns=\"http://www.w3.org/2000/svg\" xmlns:xlink=\"http://www.w3.org/1999/xlink\" width=\"600\" height=\"400\" viewBox=\"0 0 600 400\">\n",
       "<defs>\n",
       "  <clipPath id=\"clip00\">\n",
       "    <rect x=\"0\" y=\"0\" width=\"600\" height=\"400\"/>\n",
       "  </clipPath>\n",
       "</defs>\n",
       "<polygon clip-path=\"url(#clip00)\" points=\"\n",
       "0,400 600,400 600,0 0,0 \n",
       "  \" fill=\"#ffffff\" fill-opacity=\"1\"/>\n",
       "<defs>\n",
       "  <clipPath id=\"clip01\">\n",
       "    <rect x=\"120\" y=\"0\" width=\"421\" height=\"400\"/>\n",
       "  </clipPath>\n",
       "</defs>\n",
       "<polygon clip-path=\"url(#clip00)\" points=\"\n",
       "54.7703,369.674 596.063,369.674 596.063,3.93701 54.7703,3.93701 \n",
       "  \" fill=\"#ffffff\" fill-opacity=\"1\"/>\n",
       "<defs>\n",
       "  <clipPath id=\"clip02\">\n",
       "    <rect x=\"54\" y=\"3\" width=\"542\" height=\"366\"/>\n",
       "  </clipPath>\n",
       "</defs>\n",
       "<polyline clip-path=\"url(#clip02)\" style=\"stroke:#00002d; stroke-width:0.8; stroke-opacity:0.5; fill:none\" stroke-dasharray=\"1, 2\" points=\"\n",
       "  54.7703,364.188 54.7703,9.42306 \n",
       "  \"/>\n",
       "<polyline clip-path=\"url(#clip02)\" style=\"stroke:#00002d; stroke-width:0.8; stroke-opacity:0.5; fill:none\" stroke-dasharray=\"1, 2\" points=\"\n",
       "  163.029,364.188 163.029,9.42306 \n",
       "  \"/>\n",
       "<polyline clip-path=\"url(#clip02)\" style=\"stroke:#00002d; stroke-width:0.8; stroke-opacity:0.5; fill:none\" stroke-dasharray=\"1, 2\" points=\"\n",
       "  271.287,364.188 271.287,9.42306 \n",
       "  \"/>\n",
       "<polyline clip-path=\"url(#clip02)\" style=\"stroke:#00002d; stroke-width:0.8; stroke-opacity:0.5; fill:none\" stroke-dasharray=\"1, 2\" points=\"\n",
       "  379.546,364.188 379.546,9.42306 \n",
       "  \"/>\n",
       "<polyline clip-path=\"url(#clip02)\" style=\"stroke:#00002d; stroke-width:0.8; stroke-opacity:0.5; fill:none\" stroke-dasharray=\"1, 2\" points=\"\n",
       "  487.804,364.188 487.804,9.42306 \n",
       "  \"/>\n",
       "<polyline clip-path=\"url(#clip02)\" style=\"stroke:#00002d; stroke-width:0.8; stroke-opacity:0.5; fill:none\" stroke-dasharray=\"1, 2\" points=\"\n",
       "  596.063,364.188 596.063,9.42306 \n",
       "  \"/>\n",
       "<polyline clip-path=\"url(#clip02)\" style=\"stroke:#00002d; stroke-width:0.8; stroke-opacity:0.5; fill:none\" stroke-dasharray=\"1, 2\" points=\"\n",
       "  62.8897,286.594 587.944,286.594 \n",
       "  \"/>\n",
       "<polyline clip-path=\"url(#clip02)\" style=\"stroke:#00002d; stroke-width:0.8; stroke-opacity:0.5; fill:none\" stroke-dasharray=\"1, 2\" points=\"\n",
       "  62.8897,203.194 587.944,203.194 \n",
       "  \"/>\n",
       "<polyline clip-path=\"url(#clip02)\" style=\"stroke:#00002d; stroke-width:0.8; stroke-opacity:0.5; fill:none\" stroke-dasharray=\"1, 2\" points=\"\n",
       "  62.8897,119.794 587.944,119.794 \n",
       "  \"/>\n",
       "<polyline clip-path=\"url(#clip02)\" style=\"stroke:#00002d; stroke-width:0.8; stroke-opacity:0.5; fill:none\" stroke-dasharray=\"1, 2\" points=\"\n",
       "  62.8897,36.394 587.944,36.394 \n",
       "  \"/>\n",
       "<polyline clip-path=\"url(#clip02)\" style=\"stroke:#00002d; stroke-width:0.8; stroke-opacity:1; fill:none\" points=\"\n",
       "  54.7703,369.674 596.063,369.674 \n",
       "  \"/>\n",
       "<polyline clip-path=\"url(#clip02)\" style=\"stroke:#00002d; stroke-width:0.8; stroke-opacity:1; fill:none\" points=\"\n",
       "  54.7703,369.674 54.7703,364.188 \n",
       "  \"/>\n",
       "<polyline clip-path=\"url(#clip02)\" style=\"stroke:#00002d; stroke-width:0.8; stroke-opacity:1; fill:none\" points=\"\n",
       "  163.029,369.674 163.029,364.188 \n",
       "  \"/>\n",
       "<polyline clip-path=\"url(#clip02)\" style=\"stroke:#00002d; stroke-width:0.8; stroke-opacity:1; fill:none\" points=\"\n",
       "  271.287,369.674 271.287,364.188 \n",
       "  \"/>\n",
       "<polyline clip-path=\"url(#clip02)\" style=\"stroke:#00002d; stroke-width:0.8; stroke-opacity:1; fill:none\" points=\"\n",
       "  379.546,369.674 379.546,364.188 \n",
       "  \"/>\n",
       "<polyline clip-path=\"url(#clip02)\" style=\"stroke:#00002d; stroke-width:0.8; stroke-opacity:1; fill:none\" points=\"\n",
       "  487.804,369.674 487.804,364.188 \n",
       "  \"/>\n",
       "<polyline clip-path=\"url(#clip02)\" style=\"stroke:#00002d; stroke-width:0.8; stroke-opacity:1; fill:none\" points=\"\n",
       "  596.063,369.674 596.063,364.188 \n",
       "  \"/>\n",
       "<polyline clip-path=\"url(#clip02)\" style=\"stroke:#00002d; stroke-width:0.8; stroke-opacity:1; fill:none\" points=\"\n",
       "  54.7703,369.674 54.7703,3.93701 \n",
       "  \"/>\n",
       "<polyline clip-path=\"url(#clip02)\" style=\"stroke:#00002d; stroke-width:0.8; stroke-opacity:1; fill:none\" points=\"\n",
       "  54.7703,286.594 62.8897,286.594 \n",
       "  \"/>\n",
       "<polyline clip-path=\"url(#clip02)\" style=\"stroke:#00002d; stroke-width:0.8; stroke-opacity:1; fill:none\" points=\"\n",
       "  54.7703,203.194 62.8897,203.194 \n",
       "  \"/>\n",
       "<polyline clip-path=\"url(#clip02)\" style=\"stroke:#00002d; stroke-width:0.8; stroke-opacity:1; fill:none\" points=\"\n",
       "  54.7703,119.794 62.8897,119.794 \n",
       "  \"/>\n",
       "<polyline clip-path=\"url(#clip02)\" style=\"stroke:#00002d; stroke-width:0.8; stroke-opacity:1; fill:none\" points=\"\n",
       "  54.7703,36.394 62.8897,36.394 \n",
       "  \"/>\n",
       "<g clip-path=\"url(#clip00)\">\n",
       "<text style=\"fill:#00002d; fill-opacity:1; font-family:Arial,Helvetica Neue,Helvetica,sans-serif; font-size:12; text-anchor:middle;\" transform=\"rotate(0, 54.7703, 381.674)\" x=\"54.7703\" y=\"381.674\">0</text>\n",
       "</g>\n",
       "<g clip-path=\"url(#clip00)\">\n",
       "<text style=\"fill:#00002d; fill-opacity:1; font-family:Arial,Helvetica Neue,Helvetica,sans-serif; font-size:12; text-anchor:middle;\" transform=\"rotate(0, 163.029, 381.674)\" x=\"163.029\" y=\"381.674\">1</text>\n",
       "</g>\n",
       "<g clip-path=\"url(#clip00)\">\n",
       "<text style=\"fill:#00002d; fill-opacity:1; font-family:Arial,Helvetica Neue,Helvetica,sans-serif; font-size:12; text-anchor:middle;\" transform=\"rotate(0, 271.287, 381.674)\" x=\"271.287\" y=\"381.674\">2</text>\n",
       "</g>\n",
       "<g clip-path=\"url(#clip00)\">\n",
       "<text style=\"fill:#00002d; fill-opacity:1; font-family:Arial,Helvetica Neue,Helvetica,sans-serif; font-size:12; text-anchor:middle;\" transform=\"rotate(0, 379.546, 381.674)\" x=\"379.546\" y=\"381.674\">3</text>\n",
       "</g>\n",
       "<g clip-path=\"url(#clip00)\">\n",
       "<text style=\"fill:#00002d; fill-opacity:1; font-family:Arial,Helvetica Neue,Helvetica,sans-serif; font-size:12; text-anchor:middle;\" transform=\"rotate(0, 487.804, 381.674)\" x=\"487.804\" y=\"381.674\">4</text>\n",
       "</g>\n",
       "<g clip-path=\"url(#clip00)\">\n",
       "<text style=\"fill:#00002d; fill-opacity:1; font-family:Arial,Helvetica Neue,Helvetica,sans-serif; font-size:12; text-anchor:middle;\" transform=\"rotate(0, 596.063, 381.674)\" x=\"596.063\" y=\"381.674\">5</text>\n",
       "</g>\n",
       "<g clip-path=\"url(#clip00)\">\n",
       "<text style=\"fill:#00002d; fill-opacity:1; font-family:Arial,Helvetica Neue,Helvetica,sans-serif; font-size:12; text-anchor:end;\" transform=\"rotate(0, 53.5703, 291.094)\" x=\"53.5703\" y=\"291.094\">-0.5</text>\n",
       "</g>\n",
       "<g clip-path=\"url(#clip00)\">\n",
       "<text style=\"fill:#00002d; fill-opacity:1; font-family:Arial,Helvetica Neue,Helvetica,sans-serif; font-size:12; text-anchor:end;\" transform=\"rotate(0, 53.5703, 207.694)\" x=\"53.5703\" y=\"207.694\">0.0</text>\n",
       "</g>\n",
       "<g clip-path=\"url(#clip00)\">\n",
       "<text style=\"fill:#00002d; fill-opacity:1; font-family:Arial,Helvetica Neue,Helvetica,sans-serif; font-size:12; text-anchor:end;\" transform=\"rotate(0, 53.5703, 124.294)\" x=\"53.5703\" y=\"124.294\">0.5</text>\n",
       "</g>\n",
       "<g clip-path=\"url(#clip00)\">\n",
       "<text style=\"fill:#00002d; fill-opacity:1; font-family:Arial,Helvetica Neue,Helvetica,sans-serif; font-size:12; text-anchor:end;\" transform=\"rotate(0, 53.5703, 40.894)\" x=\"53.5703\" y=\"40.894\">1.0</text>\n",
       "</g>\n",
       "<g clip-path=\"url(#clip00)\">\n",
       "<text style=\"fill:#00002d; fill-opacity:1; font-family:Arial,Helvetica Neue,Helvetica,sans-serif; font-size:16; text-anchor:middle;\" transform=\"rotate(0, 325.417, 397.6)\" x=\"325.417\" y=\"397.6\">Time [s]</text>\n",
       "</g>\n",
       "<g clip-path=\"url(#clip00)\">\n",
       "<text style=\"fill:#00002d; fill-opacity:1; font-family:Arial,Helvetica Neue,Helvetica,sans-serif; font-size:16; text-anchor:middle;\" transform=\"rotate(-90, 14.4, 186.806)\" x=\"14.4\" y=\"186.806\">Angle [rad]</text>\n",
       "</g>\n",
       "<polyline clip-path=\"url(#clip02)\" style=\"stroke:#0099ff; stroke-width:0.8; stroke-opacity:1; fill:none\" points=\"\n",
       "  54.7703,153.154 54.8786,152.987 54.9869,152.818 55.0951,152.649 55.2034,152.479 55.3116,152.309 55.4199,152.137 55.5282,151.964 55.6364,151.79 55.7447,151.616 \n",
       "  55.8529,151.441 55.9612,151.264 56.0694,151.087 56.1777,150.909 56.286,150.73 56.3942,150.551 56.5025,150.37 56.6107,150.188 56.719,150.006 56.8273,149.823 \n",
       "  56.9355,149.639 57.0438,149.454 57.152,149.268 57.2603,149.081 57.3685,148.894 57.4768,148.705 57.5851,148.516 57.6933,148.326 57.8016,148.135 57.9098,147.944 \n",
       "  58.0181,147.751 58.1264,147.558 58.2346,147.364 58.3429,147.169 58.4511,146.973 58.5594,146.776 58.6676,146.579 58.7759,146.381 58.8842,146.182 58.9924,145.982 \n",
       "  59.1007,145.782 59.2089,145.58 59.3172,145.378 59.4255,145.176 59.5337,144.972 59.642,144.768 59.7502,144.563 59.8585,144.357 59.9668,144.15 60.075,143.943 \n",
       "  60.1833,143.735 60.2915,143.526 60.3998,143.317 60.508,143.107 60.6163,142.896 60.7246,142.684 60.8328,142.472 60.9411,142.259 61.0493,142.045 61.1576,141.831 \n",
       "  61.2659,141.616 61.3741,141.4 61.4824,141.184 61.5906,140.967 61.6989,140.749 61.8071,140.531 61.9154,140.312 62.0237,140.092 62.1319,139.872 62.2402,139.651 \n",
       "  62.3484,139.429 62.4567,139.207 62.565,138.984 62.6732,138.761 62.7815,138.537 62.8897,138.312 62.998,138.087 63.1062,137.861 63.2145,137.635 63.3228,137.408 \n",
       "  63.431,137.181 63.5393,136.953 63.6475,136.724 63.7558,136.495 63.8641,136.265 63.9723,136.035 64.0806,135.804 64.1888,135.573 64.2971,135.341 64.4054,135.109 \n",
       "  64.5136,134.876 64.6219,134.643 64.7301,134.409 64.8384,134.174 64.9466,133.939 65.0549,133.704 65.1632,133.468 65.2714,133.232 65.3797,132.995 65.4879,132.758 \n",
       "  65.5962,132.52 65.7045,132.282 65.8127,132.044 65.921,131.805 66.0292,131.565 66.1375,131.326 66.2457,131.085 66.354,130.845 66.4623,130.604 66.5705,130.362 \n",
       "  66.6788,130.12 66.787,129.878 66.8953,129.635 67.0036,129.392 67.1118,129.149 67.2201,128.905 67.3283,128.661 67.4366,128.417 67.5448,128.172 67.6531,127.927 \n",
       "  67.7614,127.681 67.8696,127.435 67.9779,127.189 68.0861,126.943 68.1944,126.696 68.3027,126.449 68.4109,126.202 68.5192,125.954 68.6274,125.706 68.7357,125.458 \n",
       "  68.844,125.209 68.9522,124.96 69.0605,124.711 69.1687,124.462 69.277,124.212 69.3852,123.963 69.4935,123.713 69.6018,123.462 69.71,123.212 69.8183,122.961 \n",
       "  69.9265,122.71 70.0348,122.459 70.1431,122.208 70.2513,121.956 70.3596,121.704 70.4678,121.452 70.5761,121.2 70.6843,120.948 70.7926,120.696 70.9009,120.443 \n",
       "  71.0091,120.19 71.1174,119.937 71.2256,119.684 71.3339,119.431 71.4422,119.177 71.5504,118.924 71.6587,118.67 71.7669,118.417 71.8752,118.163 71.9834,117.909 \n",
       "  72.0917,117.655 72.2,117.401 72.3082,117.146 72.4165,116.892 72.5247,116.638 72.633,116.383 72.7413,116.129 72.8495,115.874 72.9578,115.62 73.066,115.365 \n",
       "  73.1743,115.11 73.2825,114.855 73.3908,114.601 73.4991,114.346 73.6073,114.091 73.7156,113.836 73.8238,113.581 73.9321,113.326 74.0404,113.071 74.1486,112.817 \n",
       "  74.2569,112.562 74.3651,112.307 74.4734,112.052 74.5817,111.797 74.6899,111.543 74.7982,111.288 74.9064,111.033 75.0147,110.779 75.1229,110.524 75.2312,110.27 \n",
       "  75.3395,110.015 75.4477,109.761 75.556,109.507 75.6642,109.253 75.7725,108.999 75.8808,108.745 75.989,108.491 76.0973,108.237 76.2055,107.984 76.3138,107.73 \n",
       "  76.422,107.477 76.5303,107.223 76.6386,106.97 76.7468,106.717 76.8551,106.465 76.9633,106.212 77.0716,105.959 77.1799,105.707 77.2881,105.455 77.3964,105.203 \n",
       "  77.5046,104.951 77.6129,104.699 77.7211,104.448 77.8294,104.197 77.9377,103.946 78.0459,103.695 78.1542,103.444 78.2624,103.194 78.3707,102.944 78.479,102.694 \n",
       "  78.5872,102.444 78.6955,102.194 78.8037,101.945 78.912,101.696 79.0203,101.447 79.1285,101.199 79.2368,100.951 79.345,100.703 79.4533,100.455 79.5615,100.207 \n",
       "  79.6698,99.9603 79.7781,99.7135 79.8863,99.467 79.9946,99.2207 80.1028,98.9748 80.2111,98.7291 80.3194,98.4838 80.4276,98.2388 80.5359,97.9942 80.6441,97.7498 \n",
       "  80.7524,97.5058 80.8606,97.2622 80.9689,97.0188 81.0772,96.7759 81.1854,96.5332 81.2937,96.291 81.4019,96.0491 81.5102,95.8076 81.6185,95.5664 81.7267,95.3257 \n",
       "  81.835,95.0853 81.9432,94.8453 82.0515,94.6057 82.1597,94.3665 82.268,94.1277 82.3763,93.8893 82.4845,93.6514 82.5928,93.4138 82.701,93.1767 82.8093,92.94 \n",
       "  82.9176,92.7037 83.0258,92.4679 83.1341,92.2325 83.2423,91.9976 83.3506,91.7631 83.4589,91.529 83.5671,91.2955 83.6754,91.0624 83.7836,90.8297 83.8919,90.5976 \n",
       "  84.0001,90.3659 84.1084,90.1347 84.2167,89.904 84.3249,89.6738 84.4332,89.4441 84.5414,89.2149 84.6497,88.9862 84.758,88.7581 84.8662,88.5304 84.9745,88.3033 \n",
       "  85.0827,88.0766 85.191,87.8506 85.2992,87.625 85.4075,87.4 85.5158,87.1755 85.624,86.9516 85.7323,86.7283 85.8405,86.5055 85.9488,86.2832 86.0571,86.0616 \n",
       "  86.1653,85.8405 86.2736,85.6199 86.3818,85.4 86.4901,85.1806 86.5983,84.9619 86.7066,84.7437 86.8149,84.5261 86.9231,84.3091 87.0314,84.0927 87.1396,83.877 \n",
       "  87.2479,83.6618 87.3562,83.4473 87.4644,83.2334 87.5727,83.0201 87.6809,82.8075 87.7892,82.5955 87.8975,82.3841 88.0057,82.1734 88.114,81.9633 88.2222,81.7539 \n",
       "  88.3305,81.5451 88.4387,81.337 88.547,81.1295 88.6553,80.9228 88.7635,80.7167 88.8718,80.5113 88.98,80.3065 89.0883,80.1025 89.1966,79.8991 89.3048,79.6964 \n",
       "  89.4131,79.4944 89.5213,79.2932 89.6296,79.0926 89.7378,78.8927 89.8461,78.6936 89.9544,78.4952 90.0626,78.2975 90.1709,78.1005 90.2791,77.9042 90.3874,77.7087 \n",
       "  90.4957,77.5139 90.6039,77.3199 90.7122,77.1266 90.8204,76.934 90.9287,76.7422 91.0369,76.5512 91.1452,76.3609 91.2535,76.1714 91.3617,75.9826 91.47,75.7947 \n",
       "  91.5782,75.6075 91.6865,75.421 91.7948,75.2354 91.903,75.0505 92.0113,74.8664 92.1195,74.6832 92.2278,74.5007 92.3361,74.319 92.4443,74.1381 92.5526,73.958 \n",
       "  92.6608,73.7788 92.7691,73.6003 92.8773,73.4227 92.9856,73.2459 93.0939,73.0699 93.2021,72.8947 93.3104,72.7204 93.4186,72.5469 93.5269,72.3743 93.6352,72.2025 \n",
       "  93.7434,72.0315 93.8517,71.8614 93.9599,71.6921 94.0682,71.5237 94.1764,71.3561 94.2847,71.1895 94.393,71.0236 94.5012,70.8587 94.6095,70.6946 94.7177,70.5314 \n",
       "  94.826,70.369 94.9343,70.2076 95.0425,70.047 95.1508,69.8873 95.259,69.7286 95.3673,69.5707 95.4755,69.4137 95.5838,69.2576 95.6921,69.1024 95.8003,68.9481 \n",
       "  95.9086,68.7947 96.0168,68.6422 96.1251,68.4907 96.2334,68.34 96.3416,68.1903 96.4499,68.0415 96.5581,67.8937 96.6664,67.7467 96.7747,67.6007 96.8829,67.4557 \n",
       "  96.9912,67.3115 97.0994,67.1684 97.2077,67.0261 97.3159,66.8848 97.4242,66.7445 97.5325,66.6051 97.6407,66.4666 97.749,66.3292 97.8572,66.1926 97.9655,66.0571 \n",
       "  98.0738,65.9225 98.182,65.7889 98.2903,65.6562 98.3985,65.5246 98.5068,65.3939 98.615,65.2641 98.7233,65.1354 98.8316,65.0076 98.9398,64.8809 99.0481,64.7551 \n",
       "  99.1563,64.6303 99.2646,64.5065 99.3729,64.3837 99.4811,64.2619 99.5894,64.1411 99.6976,64.0213 99.8059,63.9026 99.9141,63.7848 100.022,63.668 100.131,63.5523 \n",
       "  100.239,63.4375 100.347,63.3238 100.455,63.2111 100.564,63.0994 100.672,62.9888 100.78,62.8791 100.888,62.7705 100.997,62.663 101.105,62.5564 101.213,62.4509 \n",
       "  101.322,62.3465 101.43,62.243 101.538,62.1406 101.646,62.0393 101.755,61.939 101.863,61.8398 101.971,61.7416 102.079,61.6444 102.188,61.5483 102.296,61.4533 \n",
       "  102.404,61.3593 102.512,61.2664 102.621,61.1745 102.729,61.0837 102.837,60.9939 102.945,60.9053 103.054,60.8177 103.162,60.7311 103.27,60.6457 103.378,60.5613 \n",
       "  103.487,60.4779 103.595,60.3957 103.703,60.3145 103.811,60.2344 103.92,60.1554 104.028,60.0775 104.136,60.0007 104.244,59.9249 104.353,59.8503 104.461,59.7767 \n",
       "  104.569,59.7042 104.678,59.6328 104.786,59.5625 104.894,59.4933 105.002,59.4251 105.111,59.3581 105.219,59.2922 105.327,59.2274 105.435,59.1637 105.544,59.101 \n",
       "  105.652,59.0395 105.76,58.9791 105.868,58.9198 105.977,58.8616 106.085,58.8045 106.193,58.7485 106.301,58.6936 106.41,58.6399 106.518,58.5872 106.626,58.5357 \n",
       "  106.734,58.4853 106.843,58.436 106.951,58.3878 107.059,58.3407 107.167,58.2947 107.276,58.2499 107.384,58.2062 107.492,58.1636 107.601,58.1221 107.709,58.0818 \n",
       "  107.817,58.0425 107.925,58.0044 108.034,57.9675 108.142,57.9316 108.25,57.8969 108.358,57.8633 108.467,57.8308 108.575,57.7995 108.683,57.7692 108.791,57.7402 \n",
       "  108.9,57.7122 109.008,57.6854 109.116,57.6597 109.224,57.6351 109.333,57.6117 109.441,57.5894 109.549,57.5682 109.657,57.5482 109.766,57.5293 109.874,57.5115 \n",
       "  109.982,57.4949 110.09,57.4794 110.199,57.4651 110.307,57.4518 110.415,57.4398 110.523,57.4288 110.632,57.419 110.74,57.4103 110.848,57.4028 110.957,57.3964 \n",
       "  111.065,57.3911 111.173,57.387 111.281,57.384 111.39,57.3821 111.498,57.3814 111.606,57.3818 111.714,57.3834 111.823,57.3861 111.931,57.3899 112.039,57.3949 \n",
       "  112.147,57.401 112.256,57.4082 112.364,57.4166 112.472,57.4261 112.58,57.4368 112.689,57.4486 112.797,57.4615 112.905,57.4756 113.013,57.4908 113.122,57.5071 \n",
       "  113.23,57.5246 113.338,57.5432 113.446,57.5629 113.555,57.5838 113.663,57.6058 113.771,57.6289 113.879,57.6532 113.988,57.6786 114.096,57.7051 114.204,57.7328 \n",
       "  114.313,57.7616 114.421,57.7915 114.529,57.8226 114.637,57.8547 114.746,57.888 114.854,57.9225 114.962,57.9581 115.07,57.9947 115.179,58.0326 115.287,58.0715 \n",
       "  115.395,58.1116 115.503,58.1528 115.612,58.1951 115.72,58.2385 115.828,58.2831 115.936,58.3287 116.045,58.3755 116.153,58.4235 116.261,58.4725 116.369,58.5226 \n",
       "  116.478,58.5739 116.586,58.6263 116.694,58.6798 116.802,58.7344 116.911,58.7901 117.019,58.8469 117.127,58.9048 117.236,58.9639 117.344,59.024 117.452,59.0853 \n",
       "  117.56,59.1476 117.669,59.2111 117.777,59.2756 117.885,59.3413 117.993,59.408 118.102,59.4759 118.21,59.5449 118.318,59.6149 118.426,59.686 118.535,59.7583 \n",
       "  118.643,59.8316 118.751,59.906 118.859,59.9815 118.968,60.0581 119.076,60.1358 119.184,60.2145 119.292,60.2944 119.401,60.3753 119.509,60.4573 119.617,60.5404 \n",
       "  119.725,60.6245 119.834,60.7098 119.942,60.7961 120.05,60.8834 120.158,60.9719 120.267,61.0614 120.375,61.152 120.483,61.2436 120.592,61.3363 120.7,61.43 \n",
       "  120.808,61.5249 120.916,61.6207 121.025,61.7177 121.133,61.8156 121.241,61.9147 121.349,62.0147 121.458,62.1159 121.566,62.218 121.674,62.3212 121.782,62.4255 \n",
       "  121.891,62.5308 121.999,62.6371 122.107,62.7445 122.215,62.8529 122.324,62.9623 122.432,63.0727 122.54,63.1842 122.648,63.2967 122.757,63.4102 122.865,63.5248 \n",
       "  122.973,63.6403 123.081,63.7569 123.19,63.8745 123.298,63.9931 123.406,64.1127 123.515,64.2333 123.623,64.3549 123.731,64.4775 123.839,64.6011 123.948,64.7257 \n",
       "  124.056,64.8513 124.164,64.9779 124.272,65.1055 124.381,65.2341 124.489,65.3636 124.597,65.4941 124.705,65.6256 124.814,65.7581 124.922,65.8916 125.03,66.026 \n",
       "  125.138,66.1614 125.247,66.2977 125.355,66.435 125.463,66.5733 125.571,66.7126 125.68,66.8527 125.788,66.9939 125.896,67.136 126.004,67.279 126.113,67.423 \n",
       "  126.221,67.5679 126.329,67.7137 126.437,67.8605 126.546,68.0082 126.654,68.1569 126.762,68.3065 126.871,68.457 126.979,68.6084 127.087,68.7607 127.195,68.9139 \n",
       "  127.304,69.0681 127.412,69.2232 127.52,69.3791 127.628,69.536 127.737,69.6937 127.845,69.8524 127.953,70.012 128.061,70.1724 128.17,70.3337 128.278,70.4959 \n",
       "  128.386,70.659 128.494,70.823 128.603,70.9878 128.711,71.1535 128.819,71.3201 128.927,71.4875 129.036,71.6558 129.144,71.825 129.252,71.995 129.36,72.1658 \n",
       "  129.469,72.3375 129.577,72.51 129.685,72.6834 129.794,72.8576 129.902,73.0327 130.01,73.2086 130.118,73.3853 130.227,73.5628 130.335,73.7411 130.443,73.9203 \n",
       "  130.551,74.1002 130.66,74.281 130.768,74.4626 130.876,74.645 130.984,74.8282 131.093,75.0121 131.201,75.1969 131.309,75.3824 131.417,75.5688 131.526,75.7559 \n",
       "  131.634,75.9437 131.742,76.1324 131.85,76.3218 131.959,76.512 132.067,76.7029 132.175,76.8946 132.283,77.0871 132.392,77.2803 132.5,77.4742 132.608,77.6689 \n",
       "  132.716,77.8643 132.825,78.0605 132.933,78.2573 133.041,78.455 133.15,78.6533 133.258,78.8523 133.366,79.0521 133.474,79.2525 133.583,79.4537 133.691,79.6556 \n",
       "  133.799,79.8582 133.907,80.0614 134.016,80.2654 134.124,80.47 134.232,80.6753 134.34,80.8813 134.449,81.088 134.557,81.2953 134.665,81.5033 134.773,81.712 \n",
       "  134.882,81.9213 134.99,82.1313 135.098,82.3419 135.206,82.5531 135.315,82.765 135.423,82.9776 135.531,83.1907 135.639,83.4045 135.748,83.6189 135.856,83.834 \n",
       "  135.964,84.0496 136.072,84.2658 136.181,84.4827 136.289,84.7002 136.397,84.9182 136.506,85.1369 136.614,85.3561 136.722,85.5759 136.83,85.7963 136.939,86.0173 \n",
       "  137.047,86.2388 137.155,86.4609 137.263,86.6836 137.372,86.9068 137.48,87.1306 137.588,87.3549 137.696,87.5797 137.805,87.8051 137.913,88.0311 138.021,88.2575 \n",
       "  138.129,88.4845 138.238,88.712 138.346,88.94 138.454,89.1686 138.562,89.3976 138.671,89.6271 138.779,89.8572 138.887,90.0877 138.995,90.3187 139.104,90.5502 \n",
       "  139.212,90.7822 139.32,91.0146 139.429,91.2475 139.537,91.4809 139.645,91.7148 139.753,91.9491 139.862,92.1838 139.97,92.419 140.078,92.6546 140.186,92.8907 \n",
       "  140.295,93.1272 140.403,93.3641 140.511,93.6014 140.619,93.8392 140.728,94.0773 140.836,94.3159 140.944,94.5549 141.052,94.7942 141.161,95.034 141.269,95.2741 \n",
       "  141.377,95.5146 141.485,95.7555 141.594,95.9968 141.702,96.2385 141.81,96.4805 141.918,96.7228 142.027,96.9655 142.135,97.2086 142.243,97.452 142.351,97.6957 \n",
       "  142.46,97.9398 142.568,98.1841 142.676,98.4288 142.785,98.6739 142.893,98.9192 143.001,99.1648 143.109,99.4108 143.218,99.657 143.326,99.9036 143.434,100.15 \n",
       "  143.542,100.397 143.651,100.645 143.759,100.892 143.867,101.14 143.975,101.389 144.084,101.637 144.192,101.886 144.3,102.135 144.408,102.384 144.517,102.633 \n",
       "  144.625,102.883 144.733,103.132 144.841,103.383 144.95,103.633 145.058,103.883 145.166,104.134 145.274,104.385 145.383,104.636 145.491,104.887 145.599,105.138 \n",
       "  145.708,105.39 145.816,105.642 145.924,105.894 146.032,106.146 146.141,106.398 146.249,106.65 146.357,106.903 146.465,107.156 146.574,107.408 146.682,107.661 \n",
       "  146.79,107.914 146.898,108.168 147.007,108.421 147.115,108.674 147.223,108.928 147.331,109.181 147.44,109.435 147.548,109.689 147.656,109.942 147.764,110.196 \n",
       "  147.873,110.45 147.981,110.704 148.089,110.958 148.197,111.212 148.306,111.467 148.414,111.721 148.522,111.975 148.63,112.229 148.739,112.484 148.847,112.738 \n",
       "  148.955,112.992 149.064,113.246 149.172,113.501 149.28,113.755 149.388,114.009 149.497,114.264 149.605,114.518 149.713,114.772 149.821,115.026 149.93,115.28 \n",
       "  150.038,115.534 150.146,115.788 150.254,116.042 150.363,116.296 150.471,116.55 150.579,116.804 150.687,117.058 150.796,117.311 150.904,117.565 151.012,117.818 \n",
       "  151.12,118.071 151.229,118.325 151.337,118.578 151.445,118.831 151.553,119.083 151.662,119.336 151.77,119.589 151.878,119.841 151.987,120.093 152.095,120.346 \n",
       "  152.203,120.598 152.311,120.849 152.42,121.101 152.528,121.352 152.636,121.604 152.744,121.855 152.853,122.106 152.961,122.356 153.069,122.607 153.177,122.857 \n",
       "  153.286,123.107 153.394,123.357 153.502,123.606 153.61,123.856 153.719,124.105 153.827,124.354 153.935,124.602 154.043,124.851 154.152,125.099 154.26,125.347 \n",
       "  154.368,125.594 154.476,125.841 154.585,126.088 154.693,126.335 154.801,126.581 154.909,126.827 155.018,127.073 155.126,127.319 155.234,127.564 155.343,127.808 \n",
       "  155.451,128.053 155.559,128.297 155.667,128.541 155.776,128.784 155.884,129.027 155.992,129.27 156.1,129.512 156.209,129.754 156.317,129.996 156.425,130.237 \n",
       "  156.533,130.478 156.642,130.718 156.75,130.958 156.858,131.198 156.966,131.437 157.075,131.676 157.183,131.914 157.291,132.152 157.399,132.389 157.508,132.626 \n",
       "  157.616,132.863 157.724,133.099 157.832,133.335 157.941,133.57 158.049,133.805 158.157,134.039 158.265,134.273 158.374,134.506 158.482,134.739 158.59,134.971 \n",
       "  158.699,135.203 158.807,135.434 158.915,135.665 159.023,135.895 159.132,136.125 159.24,136.354 159.348,136.583 159.456,136.811 159.565,137.038 159.673,137.265 \n",
       "  159.781,137.492 159.889,137.718 159.998,137.943 160.106,138.168 160.214,138.392 160.322,138.616 160.431,138.839 160.539,139.061 160.647,139.283 160.755,139.504 \n",
       "  160.864,139.725 160.972,139.945 161.08,140.164 161.188,140.383 161.297,140.601 161.405,140.818 161.513,141.035 161.622,141.251 161.73,141.467 161.838,141.682 \n",
       "  161.946,141.896 162.055,142.11 162.163,142.322 162.271,142.535 162.379,142.746 162.488,142.957 162.596,143.167 162.704,143.377 162.812,143.586 162.921,143.794 \n",
       "  163.029,144.001 163.137,144.208 163.245,144.414 163.354,144.619 163.462,144.824 163.57,145.027 163.678,145.23 163.787,145.433 163.895,145.634 164.003,145.835 \n",
       "  164.111,146.035 164.22,146.235 164.328,146.433 164.436,146.631 164.544,146.828 164.653,147.025 164.761,147.22 164.869,147.415 164.978,147.609 165.086,147.802 \n",
       "  165.194,147.995 165.302,148.186 165.411,148.377 165.519,148.567 165.627,148.757 165.735,148.945 165.844,149.133 165.952,149.32 166.06,149.506 166.168,149.691 \n",
       "  166.277,149.876 166.385,150.059 166.493,150.242 166.601,150.424 166.71,150.605 166.818,150.786 166.926,150.965 167.034,151.144 167.143,151.322 167.251,151.499 \n",
       "  167.359,151.675 167.467,151.851 167.576,152.025 167.684,152.199 167.792,152.372 167.901,152.544 168.009,152.715 168.117,152.885 168.225,153.055 168.334,153.223 \n",
       "  168.442,153.391 168.55,153.558 168.658,153.724 168.767,153.889 168.875,154.054 168.983,154.217 169.091,154.38 169.2,154.542 169.308,154.703 169.416,154.863 \n",
       "  169.524,155.022 169.633,155.181 169.741,155.338 169.849,155.495 169.957,155.651 170.066,155.806 170.174,155.96 170.282,156.114 170.39,156.266 170.499,156.418 \n",
       "  170.607,156.569 170.715,156.719 170.823,156.868 170.932,157.016 171.04,157.164 171.148,157.31 171.257,157.456 171.365,157.601 171.473,157.745 171.581,157.889 \n",
       "  171.69,158.031 171.798,158.173 171.906,158.314 172.014,158.454 172.123,158.593 172.231,158.732 172.339,158.87 172.447,159.007 172.556,159.143 172.664,159.278 \n",
       "  172.772,159.413 172.88,159.547 172.989,159.68 173.097,159.812 173.205,159.943 173.313,160.074 173.422,160.204 173.53,160.334 173.638,160.462 173.746,160.59 \n",
       "  173.855,160.717 173.963,160.844 174.071,160.969 174.179,161.094 174.288,161.219 174.396,161.342 174.504,161.465 174.613,161.587 174.721,161.709 174.829,161.83 \n",
       "  174.937,161.95 175.046,162.07 175.154,162.189 175.262,162.308 175.37,162.426 175.479,162.543 175.587,162.659 175.695,162.776 175.803,162.891 175.912,163.006 \n",
       "  176.02,163.12 176.128,163.234 176.236,163.348 176.345,163.46 176.453,163.573 176.561,163.685 176.669,163.796 176.778,163.907 176.886,164.017 176.994,164.127 \n",
       "  177.102,164.237 177.211,164.346 177.319,164.455 177.427,164.563 177.536,164.671 177.644,164.778 177.752,164.886 177.86,164.992 177.969,165.099 178.077,165.205 \n",
       "  178.185,165.311 178.293,165.417 178.402,165.522 178.51,165.627 178.618,165.732 178.726,165.837 178.835,165.941 178.943,166.045 179.051,166.149 179.159,166.253 \n",
       "  179.268,166.357 179.376,166.46 179.484,166.564 179.592,166.667 179.701,166.77 179.809,166.874 179.917,166.977 180.025,167.08 180.134,167.183 180.242,167.286 \n",
       "  180.35,167.389 180.458,167.492 180.567,167.595 180.675,167.698 180.783,167.801 180.892,167.905 181,168.008 181.108,168.112 181.216,168.216 181.325,168.319 \n",
       "  181.433,168.423 181.541,168.528 181.649,168.632 181.758,168.737 181.866,168.842 181.974,168.947 182.082,169.053 182.191,169.158 182.299,169.265 182.407,169.371 \n",
       "  182.515,169.478 182.624,169.585 182.732,169.693 182.84,169.801 182.948,169.909 183.057,170.018 183.165,170.127 183.273,170.237 183.381,170.347 183.49,170.458 \n",
       "  183.598,170.569 183.706,170.681 183.815,170.794 183.923,170.907 184.031,171.02 184.139,171.134 184.248,171.249 184.356,171.365 184.464,171.481 184.572,171.598 \n",
       "  184.681,171.715 184.789,171.833 184.897,171.952 185.005,172.072 185.114,172.193 185.222,172.314 185.33,172.436 185.438,172.559 185.547,172.683 185.655,172.807 \n",
       "  185.763,172.933 185.871,173.059 185.98,173.186 186.088,173.314 186.196,173.443 186.304,173.573 186.413,173.704 186.521,173.836 186.629,173.968 186.737,174.102 \n",
       "  186.846,174.237 186.954,174.373 187.062,174.509 187.171,174.647 187.279,174.786 187.387,174.926 187.495,175.067 187.604,175.209 187.712,175.353 187.82,175.497 \n",
       "  187.928,175.643 188.037,175.789 188.145,175.937 188.253,176.086 188.361,176.236 188.47,176.388 188.578,176.54 188.686,176.694 188.794,176.849 188.903,177.005 \n",
       "  189.011,177.162 189.119,177.321 189.227,177.481 189.336,177.642 189.444,177.805 189.552,177.969 189.66,178.134 189.769,178.3 189.877,178.468 189.985,178.637 \n",
       "  190.094,178.807 190.202,178.979 190.31,179.152 190.418,179.326 190.527,179.502 190.635,179.679 190.743,179.858 190.851,180.038 190.96,180.219 191.068,180.401 \n",
       "  191.176,180.586 191.284,180.771 191.393,180.958 191.501,181.146 191.609,181.336 191.717,181.527 191.826,181.72 191.934,181.914 192.042,182.11 192.15,182.307 \n",
       "  192.259,182.505 192.367,182.705 192.475,182.906 192.583,183.109 192.692,183.314 192.8,183.519 192.908,183.727 193.016,183.935 193.125,184.146 193.233,184.358 \n",
       "  193.341,184.571 193.45,184.786 193.558,185.002 193.666,185.22 193.774,185.439 193.883,185.66 193.991,185.882 194.099,186.106 194.207,186.331 194.316,186.558 \n",
       "  194.424,186.786 194.532,187.016 194.64,187.248 194.749,187.481 194.857,187.715 194.965,187.951 195.073,188.189 195.182,188.428 195.29,188.668 195.398,188.91 \n",
       "  195.506,189.154 195.615,189.399 195.723,189.646 195.831,189.894 195.939,190.144 196.048,190.395 196.156,190.648 196.264,190.902 196.372,191.158 196.481,191.415 \n",
       "  196.589,191.674 196.697,191.935 196.806,192.197 196.914,192.46 197.022,192.725 197.13,192.992 197.239,193.26 197.347,193.529 197.455,193.8 197.563,194.073 \n",
       "  197.672,194.347 197.78,194.622 197.888,194.899 197.996,195.178 198.105,195.458 198.213,195.74 198.321,196.023 198.429,196.307 198.538,196.593 198.646,196.881 \n",
       "  198.754,197.17 198.862,197.46 198.971,197.752 199.079,198.046 199.187,198.341 199.295,198.637 199.404,198.935 199.512,199.234 199.62,199.535 199.729,199.838 \n",
       "  199.837,200.141 199.945,200.446 200.053,200.753 200.162,201.061 200.27,201.37 200.378,201.681 200.486,201.994 200.595,202.307 200.703,202.623 200.811,202.939 \n",
       "  200.919,203.257 201.028,203.577 201.136,203.897 201.244,204.22 201.352,204.543 201.461,204.868 201.569,205.195 201.677,205.522 201.785,205.852 201.894,206.182 \n",
       "  202.002,206.514 202.11,206.847 202.218,207.182 202.327,207.518 202.435,207.855 202.543,208.194 202.651,208.534 202.76,208.875 202.868,209.218 202.976,209.562 \n",
       "  203.085,209.907 203.193,210.253 203.301,210.601 203.409,210.95 203.518,211.301 203.626,211.653 203.734,212.006 203.842,212.36 203.951,212.715 204.059,213.072 \n",
       "  204.167,213.43 204.275,213.79 204.384,214.15 204.492,214.512 204.6,214.875 204.708,215.239 204.817,215.605 204.925,215.972 205.033,216.34 205.141,216.709 \n",
       "  205.25,217.079 205.358,217.451 205.466,217.823 205.574,218.197 205.683,218.572 205.791,218.948 205.899,219.326 206.008,219.704 206.116,220.084 206.224,220.465 \n",
       "  206.332,220.847 206.441,221.23 206.549,221.614 206.657,221.999 206.765,222.385 206.874,222.773 206.982,223.161 207.09,223.551 207.198,223.942 207.307,224.334 \n",
       "  207.415,224.726 207.523,225.12 207.631,225.515 207.74,225.911 207.848,226.308 207.956,226.706 208.064,227.105 208.173,227.505 208.281,227.906 208.389,228.308 \n",
       "  208.497,228.712 208.606,229.116 208.714,229.521 208.822,229.926 208.93,230.333 209.039,230.741 209.147,231.15 209.255,231.56 209.364,231.971 209.472,232.382 \n",
       "  209.58,232.795 209.688,233.208 209.797,233.622 209.905,234.038 210.013,234.454 210.121,234.871 210.23,235.288 210.338,235.707 210.446,236.126 210.554,236.547 \n",
       "  210.663,236.968 210.771,237.39 210.879,237.813 210.987,238.236 211.096,238.661 211.204,239.086 211.312,239.512 211.42,239.939 211.529,240.366 211.637,240.795 \n",
       "  211.745,241.224 211.853,241.653 211.962,242.084 212.07,242.515 212.178,242.947 212.287,243.38 212.395,243.813 212.503,244.247 212.611,244.682 212.72,245.117 \n",
       "  212.828,245.553 212.936,245.99 213.044,246.427 213.153,246.865 213.261,247.303 213.369,247.743 213.477,248.182 213.586,248.623 213.694,249.064 213.802,249.505 \n",
       "  213.91,249.947 214.019,250.39 214.127,250.833 214.235,251.277 214.343,251.721 214.452,252.166 214.56,252.611 214.668,253.057 214.776,253.503 214.885,253.95 \n",
       "  214.993,254.397 215.101,254.845 215.209,255.293 215.318,255.742 215.426,256.191 215.534,256.641 215.643,257.09 215.751,257.541 215.859,257.991 215.967,258.443 \n",
       "  216.076,258.894 216.184,259.346 216.292,259.798 216.4,260.25 216.509,260.703 216.617,261.157 216.725,261.61 216.833,262.064 216.942,262.518 217.05,262.972 \n",
       "  217.158,263.427 217.266,263.882 217.375,264.337 217.483,264.792 217.591,265.248 217.699,265.704 217.808,266.16 217.916,266.616 218.024,267.073 218.132,267.529 \n",
       "  218.241,267.986 218.349,268.443 218.457,268.9 218.565,269.357 218.674,269.815 218.782,270.272 218.89,270.73 218.999,271.187 219.107,271.645 219.215,272.103 \n",
       "  219.323,272.561 219.432,273.019 219.54,273.477 219.648,273.935 219.756,274.393 219.865,274.851 219.973,275.308 220.081,275.766 220.189,276.224 220.298,276.682 \n",
       "  220.406,277.14 220.514,277.598 220.622,278.056 220.731,278.513 220.839,278.971 220.947,279.428 221.055,279.885 221.164,280.342 221.272,280.799 221.38,281.256 \n",
       "  221.488,281.713 221.597,282.169 221.705,282.626 221.813,283.082 221.922,283.538 222.03,283.993 222.138,284.449 222.246,284.904 222.355,285.359 222.463,285.813 \n",
       "  222.571,286.268 222.679,286.722 222.788,287.175 222.896,287.629 223.004,288.082 223.112,288.535 223.221,288.987 223.329,289.439 223.437,289.891 223.545,290.342 \n",
       "  223.654,290.793 223.762,291.243 223.87,291.693 223.978,292.143 224.087,292.592 224.195,293.041 224.303,293.489 224.411,293.937 224.52,294.384 224.628,294.831 \n",
       "  224.736,295.277 224.844,295.722 224.953,296.168 225.061,296.612 225.169,297.056 225.278,297.5 225.386,297.942 225.494,298.385 225.602,298.826 225.711,299.267 \n",
       "  225.819,299.708 225.927,300.147 226.035,300.587 226.144,301.025 226.252,301.463 226.36,301.9 226.468,302.336 226.577,302.772 226.685,303.207 226.793,303.641 \n",
       "  226.901,304.074 227.01,304.507 227.118,304.939 227.226,305.37 227.334,305.8 227.443,306.23 227.551,306.659 227.659,307.087 227.767,307.514 227.876,307.94 \n",
       "  227.984,308.365 228.092,308.79 228.201,309.213 228.309,309.636 228.417,310.058 228.525,310.479 228.634,310.899 228.742,311.318 228.85,311.736 228.958,312.153 \n",
       "  229.067,312.57 229.175,312.985 229.283,313.399 229.391,313.812 229.5,314.225 229.608,314.636 229.716,315.046 229.824,315.455 229.933,315.863 230.041,316.271 \n",
       "  230.149,316.677 230.257,317.082 230.366,317.485 230.474,317.888 230.582,318.29 230.69,318.691 230.799,319.09 230.907,319.488 231.015,319.886 231.123,320.282 \n",
       "  231.232,320.676 231.34,321.07 231.448,321.463 231.557,321.854 231.665,322.244 231.773,322.633 231.881,323.021 231.99,323.408 232.098,323.793 232.206,324.177 \n",
       "  232.314,324.56 232.423,324.941 232.531,325.322 232.639,325.701 232.747,326.078 232.856,326.455 232.964,326.83 233.072,327.204 233.18,327.577 233.289,327.948 \n",
       "  233.397,328.318 233.505,328.686 233.613,329.054 233.722,329.42 233.83,329.784 233.938,330.147 234.046,330.509 234.155,330.869 234.263,331.229 234.371,331.586 \n",
       "  234.48,331.942 234.588,332.297 234.696,332.651 234.804,333.003 234.913,333.353 235.021,333.702 235.129,334.05 235.237,334.396 235.346,334.741 235.454,335.084 \n",
       "  235.562,335.426 235.67,335.767 235.779,336.106 235.887,336.443 235.995,336.779 236.103,337.113 236.212,337.446 236.32,337.778 236.428,338.108 236.536,338.436 \n",
       "  236.645,338.763 236.753,339.088 236.861,339.412 236.969,339.734 237.078,340.055 237.186,340.374 237.294,340.692 237.402,341.008 237.511,341.322 237.619,341.635 \n",
       "  237.727,341.946 237.836,342.256 237.944,342.564 238.052,342.871 238.16,343.176 238.269,343.479 238.377,343.781 238.485,344.081 238.593,344.379 238.702,344.676 \n",
       "  238.81,344.971 238.918,345.265 239.026,345.557 239.135,345.847 239.243,346.136 239.351,346.423 239.459,346.709 239.568,346.992 239.676,347.274 239.784,347.555 \n",
       "  239.892,347.834 240.001,348.111 240.109,348.386 240.217,348.66 240.325,348.932 240.434,349.202 240.542,349.471 240.65,349.738 240.758,350.003 240.867,350.267 \n",
       "  240.975,350.529 241.083,350.789 241.192,351.047 241.3,351.304 241.408,351.559 241.516,351.813 241.625,352.064 241.733,352.314 241.841,352.562 241.949,352.809 \n",
       "  242.058,353.054 242.166,353.297 242.274,353.538 242.382,353.777 242.491,354.015 242.599,354.251 242.707,354.486 242.815,354.718 242.924,354.949 243.032,355.178 \n",
       "  243.14,355.405 243.248,355.631 243.357,355.855 243.465,356.077 243.573,356.297 243.681,356.515 243.79,356.732 243.898,356.947 244.006,357.16 244.115,357.372 \n",
       "  244.223,357.582 244.331,357.789 244.439,357.996 244.548,358.2 244.656,358.402 244.764,358.603 244.872,358.802 244.981,358.999 245.089,359.195 245.197,359.389 \n",
       "  245.305,359.58 245.414,359.77 245.522,359.959 245.63,360.145 245.738,360.33 245.847,360.513 245.955,360.694 246.063,360.873 246.171,361.051 246.28,361.226 \n",
       "  246.388,361.4 246.496,361.572 246.604,361.743 246.713,361.911 246.821,362.078 246.929,362.243 247.037,362.406 247.146,362.567 247.254,362.727 247.362,362.884 \n",
       "  247.471,363.04 247.579,363.194 247.687,363.346 247.795,363.497 247.904,363.645 248.012,363.792 248.12,363.937 248.228,364.08 248.337,364.222 248.445,364.361 \n",
       "  248.553,364.499 248.661,364.635 248.77,364.769 248.878,364.901 248.986,365.032 249.094,365.16 249.203,365.287 249.311,365.412 249.419,365.535 249.527,365.657 \n",
       "  249.636,365.776 249.744,365.894 249.852,366.01 249.96,366.124 250.069,366.237 250.177,366.347 250.285,366.456 250.394,366.563 250.502,366.668 250.61,366.771 \n",
       "  250.718,366.872 250.827,366.972 250.935,367.07 251.043,367.166 251.151,367.26 251.26,367.352 251.368,367.443 251.476,367.531 251.584,367.618 251.693,367.703 \n",
       "  251.801,367.787 251.909,367.868 252.017,367.948 252.126,368.026 252.234,368.102 252.342,368.176 252.45,368.248 252.559,368.319 252.667,368.388 252.775,368.455 \n",
       "  252.883,368.52 252.992,368.583 253.1,368.645 253.208,368.705 253.316,368.763 253.425,368.819 253.533,368.873 253.641,368.926 253.75,368.977 253.858,369.026 \n",
       "  253.966,369.073 254.074,369.118 254.183,369.162 254.291,369.204 254.399,369.244 254.507,369.282 254.616,369.318 254.724,369.353 254.832,369.386 254.94,369.417 \n",
       "  255.049,369.446 255.157,369.474 255.265,369.5 255.373,369.524 255.482,369.546 255.59,369.566 255.698,369.585 255.806,369.602 255.915,369.617 256.023,369.63 \n",
       "  256.131,369.642 256.239,369.651 256.348,369.66 256.456,369.666 256.564,369.67 256.672,369.673 256.781,369.674 256.889,369.673 256.997,369.671 257.106,369.667 \n",
       "  257.214,369.661 257.322,369.653 257.43,369.643 257.539,369.632 257.647,369.619 257.755,369.605 257.863,369.588 257.972,369.57 258.08,369.55 258.188,369.529 \n",
       "  258.296,369.505 258.405,369.48 258.513,369.453 258.621,369.425 258.729,369.395 258.838,369.363 258.946,369.329 259.054,369.294 259.162,369.257 259.271,369.218 \n",
       "  259.379,369.178 259.487,369.136 259.595,369.092 259.704,369.046 259.812,368.999 259.92,368.95 260.029,368.9 260.137,368.848 260.245,368.794 260.353,368.738 \n",
       "  260.462,368.681 260.57,368.622 260.678,368.562 260.786,368.499 260.895,368.436 261.003,368.37 261.111,368.303 261.219,368.234 261.328,368.164 261.436,368.092 \n",
       "  261.544,368.018 261.652,367.943 261.761,367.866 261.869,367.787 261.977,367.707 262.085,367.626 262.194,367.542 262.302,367.457 262.41,367.371 262.518,367.282 \n",
       "  262.627,367.193 262.735,367.101 262.843,367.009 262.951,366.914 263.06,366.818 263.168,366.72 263.276,366.621 263.385,366.52 263.493,366.418 263.601,366.314 \n",
       "  263.709,366.209 263.818,366.102 263.926,365.994 264.034,365.884 264.142,365.772 264.251,365.659 264.359,365.544 264.467,365.428 264.575,365.311 264.684,365.192 \n",
       "  264.792,365.071 264.9,364.949 265.008,364.825 265.117,364.7 265.225,364.574 265.333,364.446 265.441,364.316 265.55,364.186 265.658,364.053 265.766,363.919 \n",
       "  265.874,363.784 265.983,363.647 266.091,363.509 266.199,363.37 266.308,363.229 266.416,363.086 266.524,362.942 266.632,362.797 266.741,362.651 266.849,362.503 \n",
       "  266.957,362.353 267.065,362.202 267.174,362.05 267.282,361.897 267.39,361.742 267.498,361.585 267.607,361.428 267.715,361.269 267.823,361.108 267.931,360.947 \n",
       "  268.04,360.784 268.148,360.619 268.256,360.454 268.364,360.287 268.473,360.118 268.581,359.949 268.689,359.778 268.797,359.606 268.906,359.432 269.014,359.258 \n",
       "  269.122,359.082 269.23,358.904 269.339,358.726 269.447,358.546 269.555,358.365 269.664,358.183 269.772,357.999 269.88,357.815 269.988,357.629 270.097,357.442 \n",
       "  270.205,357.253 270.313,357.064 270.421,356.873 270.53,356.681 270.638,356.488 270.746,356.293 270.854,356.098 270.963,355.901 271.071,355.703 271.179,355.505 \n",
       "  271.287,355.304 271.396,355.103 271.504,354.901 271.612,354.697 271.72,354.493 271.829,354.287 271.937,354.08 272.045,353.872 272.153,353.663 272.262,353.453 \n",
       "  272.37,353.242 272.478,353.029 272.587,352.816 272.695,352.601 272.803,352.386 272.911,352.169 273.02,351.952 273.128,351.733 273.236,351.514 273.344,351.293 \n",
       "  273.453,351.071 273.561,350.848 273.669,350.625 273.777,350.4 273.886,350.174 273.994,349.947 274.102,349.72 274.21,349.491 274.319,349.261 274.427,349.031 \n",
       "  274.535,348.799 274.643,348.567 274.752,348.333 274.86,348.099 274.968,347.863 275.076,347.627 275.185,347.39 275.293,347.152 275.401,346.913 275.509,346.673 \n",
       "  275.618,346.432 275.726,346.19 275.834,345.948 275.943,345.704 276.051,345.46 276.159,345.215 276.267,344.968 276.376,344.722 276.484,344.474 276.592,344.225 \n",
       "  276.7,343.976 276.809,343.725 276.917,343.474 277.025,343.222 277.133,342.969 277.242,342.716 277.35,342.461 277.458,342.206 277.566,341.95 277.675,341.693 \n",
       "  277.783,341.436 277.891,341.177 277.999,340.918 278.108,340.658 278.216,340.397 278.324,340.136 278.432,339.874 278.541,339.611 278.649,339.347 278.757,339.083 \n",
       "  278.865,338.818 278.974,338.552 279.082,338.285 279.19,338.018 279.299,337.75 279.407,337.481 279.515,337.211 279.623,336.941 279.732,336.67 279.84,336.399 \n",
       "  279.948,336.127 280.056,335.854 280.165,335.58 280.273,335.306 280.381,335.031 280.489,334.755 280.598,334.479 280.706,334.202 280.814,333.925 280.922,333.647 \n",
       "  281.031,333.368 281.139,333.088 281.247,332.808 281.355,332.528 281.464,332.246 281.572,331.965 281.68,331.682 281.788,331.399 281.897,331.115 282.005,330.831 \n",
       "  282.113,330.546 282.222,330.26 282.33,329.974 282.438,329.688 282.546,329.4 282.655,329.113 282.763,328.824 282.871,328.535 282.979,328.246 283.088,327.956 \n",
       "  283.196,327.665 283.304,327.374 283.412,327.082 283.521,326.79 283.629,326.497 283.737,326.204 283.845,325.91 283.954,325.616 284.062,325.321 284.17,325.025 \n",
       "  284.278,324.73 284.387,324.433 284.495,324.136 284.603,323.839 284.711,323.541 284.82,323.242 284.928,322.944 285.036,322.644 285.144,322.344 285.253,322.044 \n",
       "  285.361,321.743 285.469,321.442 285.578,321.14 285.686,320.838 285.794,320.535 285.902,320.232 286.011,319.928 286.119,319.624 286.227,319.32 286.335,319.015 \n",
       "  286.444,318.709 286.552,318.404 286.66,318.097 286.768,317.791 286.877,317.484 286.985,317.176 287.093,316.868 287.201,316.56 287.31,316.251 287.418,315.942 \n",
       "  287.526,315.632 287.634,315.322 287.743,315.012 287.851,314.701 287.959,314.39 288.067,314.078 288.176,313.766 288.284,313.454 288.392,313.141 288.501,312.828 \n",
       "  288.609,312.514 288.717,312.2 288.825,311.886 288.934,311.571 289.042,311.256 289.15,310.941 289.258,310.625 289.367,310.309 289.475,309.993 289.583,309.676 \n",
       "  289.691,309.359 289.8,309.042 289.908,308.724 290.016,308.406 290.124,308.087 290.233,307.768 290.341,307.449 290.449,307.13 290.557,306.81 290.666,306.49 \n",
       "  290.774,306.17 290.882,305.849 290.99,305.528 291.099,305.207 291.207,304.885 291.315,304.563 291.423,304.241 291.532,303.918 291.64,303.596 291.748,303.273 \n",
       "  291.857,302.949 291.965,302.626 292.073,302.302 292.181,301.977 292.29,301.653 292.398,301.328 292.506,301.003 292.614,300.678 292.723,300.352 292.831,300.027 \n",
       "  292.939,299.701 293.047,299.374 293.156,299.048 293.264,298.721 293.372,298.394 293.48,298.067 293.589,297.739 293.697,297.412 293.805,297.084 293.913,296.755 \n",
       "  294.022,296.427 294.13,296.098 294.238,295.77 294.346,295.44 294.455,295.111 294.563,294.782 294.671,294.452 294.78,294.122 294.888,293.792 294.996,293.462 \n",
       "  295.104,293.131 295.213,292.801 295.321,292.47 295.429,292.139 295.537,291.808 295.646,291.476 295.754,291.145 295.862,290.813 295.97,290.481 296.079,290.149 \n",
       "  296.187,289.817 296.295,289.484 296.403,289.152 296.512,288.819 296.62,288.486 296.728,288.153 296.836,287.82 296.945,287.487 297.053,287.154 297.161,286.82 \n",
       "  297.269,286.487 297.378,286.153 297.486,285.819 297.594,285.485 297.702,285.151 297.811,284.817 297.919,284.482 298.027,284.148 298.136,283.813 298.244,283.479 \n",
       "  298.352,283.144 298.46,282.809 298.569,282.474 298.677,282.139 298.785,281.804 298.893,281.469 299.002,281.134 299.11,280.799 299.218,280.464 299.326,280.128 \n",
       "  299.435,279.793 299.543,279.457 299.651,279.122 299.759,278.786 299.868,278.451 299.976,278.115 300.084,277.779 300.192,277.444 300.301,277.108 300.409,276.772 \n",
       "  300.517,276.436 300.625,276.101 300.734,275.765 300.842,275.429 300.95,275.093 301.058,274.757 301.167,274.422 301.275,274.086 301.383,273.75 301.492,273.414 \n",
       "  301.6,273.079 301.708,272.743 301.816,272.407 301.925,272.072 302.033,271.736 302.141,271.401 302.249,271.065 302.358,270.73 302.466,270.394 302.574,270.059 \n",
       "  302.682,269.724 302.791,269.389 302.899,269.054 303.007,268.719 303.115,268.384 303.224,268.049 303.332,267.714 303.44,267.379 303.548,267.045 303.657,266.71 \n",
       "  303.765,266.376 303.873,266.042 303.981,265.708 304.09,265.374 304.198,265.04 304.306,264.706 304.415,264.373 304.523,264.039 304.631,263.706 304.739,263.373 \n",
       "  304.848,263.04 304.956,262.707 305.064,262.375 305.172,262.042 305.281,261.71 305.389,261.378 305.497,261.046 305.605,260.714 305.714,260.383 305.822,260.051 \n",
       "  305.93,259.72 306.038,259.389 306.147,259.059 306.255,258.728 306.363,258.398 306.471,258.068 306.58,257.738 306.688,257.409 306.796,257.08 306.904,256.751 \n",
       "  307.013,256.422 307.121,256.094 307.229,255.765 307.337,255.438 307.446,255.11 307.554,254.783 307.662,254.456 307.771,254.129 307.879,253.803 307.987,253.476 \n",
       "  308.095,253.151 308.204,252.825 308.312,252.5 308.42,252.175 308.528,251.851 308.637,251.527 308.745,251.203 308.853,250.88 308.961,250.557 309.07,250.234 \n",
       "  309.178,249.912 309.286,249.59 309.394,249.268 309.503,248.947 309.611,248.627 309.719,248.306 309.827,247.986 309.936,247.667 310.044,247.348 310.152,247.029 \n",
       "  310.26,246.711 310.369,246.393 310.477,246.076 310.585,245.759 310.694,245.443 310.802,245.127 310.91,244.812 311.018,244.497 311.127,244.183 311.235,243.869 \n",
       "  311.343,243.555 311.451,243.242 311.56,242.93 311.668,242.618 311.776,242.307 311.884,241.996 311.993,241.686 312.101,241.376 312.209,241.067 312.317,240.758 \n",
       "  312.426,240.45 312.534,240.143 312.642,239.836 312.75,239.53 312.859,239.224 312.967,238.919 313.075,238.615 313.183,238.311 313.292,238.008 313.4,237.705 \n",
       "  313.508,237.403 313.616,237.102 313.725,236.801 313.833,236.501 313.941,236.202 314.05,235.904 314.158,235.606 314.266,235.309 314.374,235.012 314.483,234.716 \n",
       "  314.591,234.421 314.699,234.127 314.807,233.833 314.916,233.54 315.024,233.248 315.132,232.957 315.24,232.666 315.349,232.376 315.457,232.087 315.565,231.799 \n",
       "  315.673,231.511 315.782,231.225 315.89,230.939 315.998,230.654 316.106,230.369 316.215,230.086 316.323,229.803 316.431,229.522 316.539,229.241 316.648,228.961 \n",
       "  316.756,228.682 316.864,228.403 316.973,228.126 317.081,227.85 317.189,227.574 317.297,227.299 317.406,227.026 317.514,226.753 317.622,226.481 317.73,226.21 \n",
       "  317.839,225.94 317.947,225.671 318.055,225.403 318.163,225.136 318.272,224.87 318.38,224.605 318.488,224.341 318.596,224.078 318.705,223.816 318.813,223.555 \n",
       "  318.921,223.295 319.029,223.036 319.138,222.778 319.246,222.521 319.354,222.265 319.462,222.011 319.571,221.757 319.679,221.505 319.787,221.253 319.895,221.003 \n",
       "  320.004,220.754 320.112,220.506 320.22,220.259 320.329,220.013 320.437,219.769 320.545,219.525 320.653,219.283 320.762,219.042 320.87,218.803 320.978,218.564 \n",
       "  321.086,218.327 321.195,218.09 321.303,217.856 321.411,217.622 321.519,217.389 321.628,217.158 321.736,216.928 321.844,216.7 321.952,216.473 322.061,216.247 \n",
       "  322.169,216.022 322.277,215.799 322.385,215.576 322.494,215.356 322.602,215.136 322.71,214.918 322.818,214.702 322.927,214.487 323.035,214.273 323.143,214.06 \n",
       "  323.251,213.849 323.36,213.639 323.468,213.431 323.576,213.224 323.685,213.019 323.793,212.815 323.901,212.613 324.009,212.412 324.118,212.212 324.226,212.014 \n",
       "  324.334,211.818 324.442,211.623 324.551,211.429 324.659,211.237 324.767,211.047 324.875,210.858 324.984,210.671 325.092,210.485 325.2,210.301 325.308,210.118 \n",
       "  325.417,209.937 325.525,209.758 325.633,209.58 325.741,209.404 325.85,209.23 325.958,209.057 326.066,208.886 326.174,208.717 326.283,208.549 326.391,208.383 \n",
       "  326.499,208.218 326.608,208.056 326.716,207.895 326.824,207.736 326.932,207.578 327.041,207.423 327.149,207.269 327.257,207.116 327.365,206.966 327.474,206.818 \n",
       "  327.582,206.671 327.69,206.526 327.798,206.383 327.907,206.242 328.015,206.102 328.123,205.965 328.231,205.829 328.34,205.695 328.448,205.563 328.556,205.433 \n",
       "  328.664,205.305 328.773,205.179 328.881,205.055 328.989,204.933 329.097,204.813 329.206,204.694 329.314,204.578 329.422,204.464 329.53,204.351 329.639,204.241 \n",
       "  329.747,204.133 329.855,204.027 329.964,203.922 330.072,203.82 330.18,203.72 330.288,203.622 330.397,203.526 330.505,203.433 330.613,203.341 330.721,203.251 \n",
       "  330.83,203.164 330.938,203.079 331.046,202.996 331.154,202.915 331.263,202.836 331.371,202.76 331.479,202.685 331.587,202.613 331.696,202.543 331.804,202.476 \n",
       "  331.912,202.41 332.02,202.347 332.129,202.286 332.237,202.228 332.345,202.171 332.453,202.117 332.562,202.066 332.67,202.016 332.778,201.969 332.887,201.925 \n",
       "  332.995,201.882 333.103,201.843 333.211,201.805 333.32,201.77 333.428,201.737 333.536,201.707 333.644,201.679 333.753,201.654 333.861,201.631 333.969,201.61 \n",
       "  334.077,201.592 334.186,201.577 334.294,201.564 334.402,201.553 334.51,201.545 334.619,201.539 334.727,201.536 334.835,201.536 334.943,201.538 335.052,201.543 \n",
       "  335.16,201.55 335.268,201.56 335.376,201.573 335.485,201.588 335.593,201.605 335.701,201.626 335.809,201.649 335.918,201.674 336.026,201.703 336.134,201.734 \n",
       "  336.243,201.767 336.351,201.804 336.459,201.843 336.567,201.884 336.676,201.929 336.784,201.976 336.892,202.026 337,202.078 337.109,202.134 337.217,202.192 \n",
       "  337.325,202.253 337.433,202.316 337.542,202.383 337.65,202.452 337.758,202.524 337.866,202.599 337.975,202.676 338.083,202.756 338.191,202.84 338.299,202.926 \n",
       "  338.408,203.014 338.516,203.106 338.624,203.2 338.732,203.297 338.841,203.398 338.949,203.5 339.057,203.606 339.165,203.715 339.274,203.826 339.382,203.94 \n",
       "  339.49,204.057 339.599,204.177 339.707,204.3 339.815,204.425 339.923,204.553 340.032,204.685 340.14,204.818 340.248,204.955 340.356,205.095 340.465,205.237 \n",
       "  340.573,205.382 340.681,205.53 340.789,205.681 340.898,205.834 341.006,205.99 341.114,206.149 341.222,206.31 341.331,206.475 341.439,206.642 341.547,206.811 \n",
       "  341.655,206.984 341.764,207.159 341.872,207.336 341.98,207.516 342.088,207.699 342.197,207.884 342.305,208.072 342.413,208.262 342.522,208.455 342.63,208.65 \n",
       "  342.738,208.848 342.846,209.048 342.955,209.251 343.063,209.455 343.171,209.662 343.279,209.872 343.388,210.083 343.496,210.297 343.604,210.513 343.712,210.731 \n",
       "  343.821,210.951 343.929,211.173 344.037,211.397 344.145,211.622 344.254,211.85 344.362,212.08 344.47,212.311 344.578,212.544 344.687,212.779 344.795,213.015 \n",
       "  344.903,213.253 345.011,213.492 345.12,213.733 345.228,213.975 345.336,214.219 345.444,214.463 345.553,214.709 345.661,214.956 345.769,215.204 345.878,215.453 \n",
       "  345.986,215.703 346.094,215.954 346.202,216.205 346.311,216.458 346.419,216.71 346.527,216.964 346.635,217.218 346.744,217.472 346.852,217.726 346.96,217.981 \n",
       "  347.068,218.236 347.177,218.491 347.285,218.746 347.393,219.001 347.501,219.256 347.61,219.511 347.718,219.765 347.826,220.019 347.934,220.273 348.043,220.526 \n",
       "  348.151,220.778 348.259,221.03 348.367,221.281 348.476,221.532 348.584,221.781 348.692,222.029 348.801,222.277 348.909,222.523 349.017,222.768 349.125,223.012 \n",
       "  349.234,223.254 349.342,223.496 349.45,223.735 349.558,223.973 349.667,224.21 349.775,224.445 349.883,224.678 349.991,224.91 350.1,225.139 350.208,225.367 \n",
       "  350.316,225.593 350.424,225.817 350.533,226.038 350.641,226.258 350.749,226.476 350.857,226.691 350.966,226.904 351.074,227.115 351.182,227.323 351.29,227.529 \n",
       "  351.399,227.733 351.507,227.934 351.615,228.133 351.723,228.329 351.832,228.522 351.94,228.713 352.048,228.901 352.157,229.087 352.265,229.27 352.373,229.45 \n",
       "  352.481,229.627 352.59,229.802 352.698,229.974 352.806,230.142 352.914,230.308 353.023,230.471 353.131,230.632 353.239,230.789 353.347,230.943 353.456,231.094 \n",
       "  353.564,231.243 353.672,231.388 353.78,231.53 353.889,231.67 353.997,231.806 354.105,231.939 354.213,232.069 354.322,232.196 354.43,232.32 354.538,232.441 \n",
       "  354.646,232.558 354.755,232.673 354.863,232.784 354.971,232.893 355.08,232.998 355.188,233.1 355.296,233.199 355.404,233.295 355.513,233.387 355.621,233.477 \n",
       "  355.729,233.563 355.837,233.646 355.946,233.727 356.054,233.803 356.162,233.877 356.27,233.948 356.379,234.015 356.487,234.08 356.595,234.141 356.703,234.199 \n",
       "  356.812,234.254 356.92,234.306 357.028,234.355 357.136,234.4 357.245,234.443 357.353,234.482 357.461,234.519 357.569,234.552 357.678,234.582 357.786,234.609 \n",
       "  357.894,234.633 358.002,234.654 358.111,234.672 358.219,234.687 358.327,234.699 358.436,234.708 358.544,234.714 358.652,234.716 358.76,234.716 358.869,234.713 \n",
       "  358.977,234.707 359.085,234.697 359.193,234.685 359.302,234.67 359.41,234.652 359.518,234.631 359.626,234.607 359.735,234.58 359.843,234.55 359.951,234.518 \n",
       "  360.059,234.482 360.168,234.444 360.276,234.402 360.384,234.358 360.492,234.311 360.601,234.261 360.709,234.208 360.817,234.153 360.925,234.094 361.034,234.033 \n",
       "  361.142,233.969 361.25,233.902 361.358,233.833 361.467,233.761 361.575,233.685 361.683,233.608 361.792,233.527 361.9,233.444 362.008,233.358 362.116,233.269 \n",
       "  362.225,233.178 362.333,233.084 362.441,232.988 362.549,232.888 362.658,232.786 362.766,232.682 362.874,232.575 362.982,232.465 363.091,232.352 363.199,232.237 \n",
       "  363.307,232.12 363.415,232 363.524,231.877 363.632,231.752 363.74,231.624 363.848,231.494 363.957,231.361 364.065,231.226 364.173,231.088 364.281,230.948 \n",
       "  364.39,230.805 364.498,230.66 364.606,230.513 364.715,230.363 364.823,230.21 364.931,230.056 365.039,229.898 365.148,229.739 365.256,229.577 365.364,229.412 \n",
       "  365.472,229.246 365.581,229.077 365.689,228.905 365.797,228.731 365.905,228.555 366.014,228.377 366.122,228.196 366.23,228.013 366.338,227.828 366.447,227.641 \n",
       "  366.555,227.451 366.663,227.259 366.771,227.065 366.88,226.869 366.988,226.67 367.096,226.469 367.204,226.266 367.313,226.061 367.421,225.854 367.529,225.645 \n",
       "  367.637,225.433 367.746,225.219 367.854,225.003 367.962,224.785 368.071,224.565 368.179,224.343 368.287,224.119 368.395,223.893 368.504,223.664 368.612,223.434 \n",
       "  368.72,223.201 368.828,222.967 368.937,222.73 369.045,222.492 369.153,222.251 369.261,222.009 369.37,221.764 369.478,221.518 369.586,221.27 369.694,221.019 \n",
       "  369.803,220.767 369.911,220.513 370.019,220.257 370.127,219.999 370.236,219.739 370.344,219.477 370.452,219.213 370.56,218.947 370.669,218.68 370.777,218.411 \n",
       "  370.885,218.14 370.994,217.867 371.102,217.592 371.21,217.315 371.318,217.037 371.427,216.757 371.535,216.475 371.643,216.191 371.751,215.905 371.86,215.618 \n",
       "  371.968,215.329 372.076,215.038 372.184,214.746 372.293,214.452 372.401,214.156 372.509,213.858 372.617,213.559 372.726,213.258 372.834,212.956 372.942,212.651 \n",
       "  373.05,212.345 373.159,212.038 373.267,211.729 373.375,211.418 373.483,211.106 373.592,210.791 373.7,210.476 373.808,210.159 373.916,209.84 374.025,209.52 \n",
       "  374.133,209.198 374.241,208.874 374.35,208.549 374.458,208.223 374.566,207.895 374.674,207.565 374.783,207.234 374.891,206.902 374.999,206.568 375.107,206.232 \n",
       "  375.216,205.895 375.324,205.557 375.432,205.217 375.54,204.875 375.649,204.533 375.757,204.188 375.865,203.843 375.973,203.496 376.082,203.147 376.19,202.798 \n",
       "  376.298,202.446 376.406,202.094 376.515,201.74 376.623,201.385 376.731,201.028 376.839,200.67 376.948,200.311 377.056,199.95 377.164,199.588 377.273,199.225 \n",
       "  377.381,198.86 377.489,198.494 377.597,198.127 377.706,197.759 377.814,197.389 377.922,197.018 378.03,196.646 378.139,196.273 378.247,195.898 378.355,195.522 \n",
       "  378.463,195.145 378.572,194.767 378.68,194.387 378.788,194.006 378.896,193.624 379.005,193.241 379.113,192.857 379.221,192.472 379.329,192.085 379.438,191.697 \n",
       "  379.546,191.308 379.654,190.918 379.762,190.527 379.871,190.135 379.979,189.741 380.087,189.347 380.195,188.951 380.304,188.555 380.412,188.157 380.52,187.758 \n",
       "  380.629,187.358 380.737,186.957 380.845,186.555 380.953,186.152 381.062,185.748 381.17,185.343 381.278,184.936 381.386,184.529 381.495,184.121 381.603,183.712 \n",
       "  381.711,183.301 381.819,182.89 381.928,182.478 382.036,182.064 382.144,181.65 382.252,181.235 382.361,180.819 382.469,180.402 382.577,179.984 382.685,179.565 \n",
       "  382.794,179.145 382.902,178.724 383.01,178.302 383.118,177.88 383.227,177.456 383.335,177.031 383.443,176.606 383.551,176.18 383.66,175.752 383.768,175.324 \n",
       "  383.876,174.895 383.985,174.466 384.093,174.035 384.201,173.603 384.309,173.171 384.418,172.738 384.526,172.304 384.634,171.869 384.742,171.433 384.851,170.996 \n",
       "  384.959,170.559 385.067,170.121 385.175,169.682 385.284,169.242 385.392,168.802 385.5,168.36 385.608,167.918 385.717,167.475 385.825,167.031 385.933,166.587 \n",
       "  386.041,166.142 386.15,165.696 386.258,165.249 386.366,164.802 386.474,164.353 386.583,163.904 386.691,163.455 386.799,163.004 386.908,162.553 387.016,162.101 \n",
       "  387.124,161.649 387.232,161.195 387.341,160.742 387.449,160.287 387.557,159.832 387.665,159.376 387.774,158.919 387.882,158.461 387.99,158.003 388.098,157.545 \n",
       "  388.207,157.085 388.315,156.625 388.423,156.165 388.531,155.703 388.64,155.241 388.748,154.779 388.856,154.316 388.964,153.852 389.073,153.387 389.181,152.922 \n",
       "  389.289,152.456 389.397,151.99 389.506,151.523 389.614,151.056 389.722,150.588 389.83,150.119 389.939,149.65 390.047,149.18 390.155,148.709 390.264,148.238 \n",
       "  390.372,147.767 390.48,147.294 390.588,146.822 390.697,146.348 390.805,145.875 390.913,145.4 391.021,144.925 391.13,144.45 391.238,143.974 391.346,143.497 \n",
       "  391.454,143.02 391.563,142.543 391.671,142.065 391.779,141.586 391.887,141.107 391.996,140.627 392.104,140.147 392.212,139.667 392.32,139.185 392.429,138.704 \n",
       "  392.537,138.222 392.645,137.739 392.753,137.256 392.862,136.773 392.97,136.289 393.078,135.804 393.187,135.319 393.295,134.834 393.403,134.348 393.511,133.862 \n",
       "  393.62,133.375 393.728,132.888 393.836,132.401 393.944,131.913 394.053,131.424 394.161,130.936 394.269,130.446 394.377,129.957 394.486,129.467 394.594,128.976 \n",
       "  394.702,128.485 394.81,127.994 394.919,127.503 395.027,127.011 395.135,126.518 395.243,126.025 395.352,125.532 395.46,125.039 395.568,124.545 395.676,124.051 \n",
       "  395.785,123.556 395.893,123.061 396.001,122.566 396.109,122.071 396.218,121.575 396.326,121.078 396.434,120.582 396.543,120.085 396.651,119.588 396.759,119.09 \n",
       "  396.867,118.593 396.976,118.095 397.084,117.596 397.192,117.098 397.3,116.599 397.409,116.1 397.517,115.6 397.625,115.101 397.733,114.601 397.842,114.1 \n",
       "  397.95,113.6 398.058,113.099 398.166,112.599 398.275,112.097 398.383,111.596 398.491,111.095 398.599,110.593 398.708,110.091 398.816,109.589 398.924,109.087 \n",
       "  399.032,108.584 399.141,108.082 399.249,107.579 399.357,107.076 399.466,106.573 399.574,106.069 399.682,105.566 399.79,105.063 399.899,104.559 400.007,104.055 \n",
       "  400.115,103.552 400.223,103.048 400.332,102.544 400.44,102.04 400.548,101.536 400.656,101.031 400.765,100.527 400.873,100.023 400.981,99.5187 401.089,99.0144 \n",
       "  401.198,98.5101 401.306,98.0058 401.414,97.5015 401.522,96.9973 401.631,96.493 401.739,95.9888 401.847,95.4846 401.955,94.9805 402.064,94.4765 402.172,93.9726 \n",
       "  402.28,93.4687 402.388,92.9649 402.497,92.4613 402.605,91.9578 402.713,91.4544 402.822,90.9511 402.93,90.4481 403.038,89.9452 403.146,89.4424 403.255,88.9399 \n",
       "  403.363,88.4376 403.471,87.9355 403.579,87.4336 403.688,86.932 403.796,86.4306 403.904,85.9295 404.012,85.4287 404.121,84.9282 404.229,84.428 404.337,83.9281 \n",
       "  404.445,83.4286 404.554,82.9294 404.662,82.4306 404.77,81.9322 404.878,81.4341 404.987,80.9365 405.095,80.4393 405.203,79.9426 405.311,79.4463 405.42,78.9504 \n",
       "  405.528,78.4551 405.636,77.9603 405.744,77.4659 405.853,76.9722 405.961,76.4789 406.069,75.9862 406.178,75.4942 406.286,75.0027 406.394,74.5118 406.502,74.0215 \n",
       "  406.611,73.5319 406.719,73.043 406.827,72.5548 406.935,72.0672 407.044,71.5804 407.152,71.0943 407.26,70.6089 407.368,70.1243 407.477,69.6405 407.585,69.1575 \n",
       "  407.693,68.6753 407.801,68.194 407.91,67.7135 408.018,67.2339 408.126,66.7551 408.234,66.2773 408.343,65.8004 408.451,65.3245 408.559,64.8495 408.667,64.3755 \n",
       "  408.776,63.9025 408.884,63.4305 408.992,62.9595 409.101,62.4896 409.209,62.0207 409.317,61.553 409.425,61.0863 409.534,60.6208 409.642,60.1564 409.75,59.6932 \n",
       "  409.858,59.2311 409.967,58.7702 410.075,58.3106 410.183,57.8522 410.291,57.395 410.4,56.9391 410.508,56.4845 410.616,56.0311 410.724,55.5791 410.833,55.1284 \n",
       "  410.941,54.6791 411.049,54.2312 411.157,53.7846 411.266,53.3394 411.374,52.8957 411.482,52.4534 411.59,52.0125 411.699,51.5731 411.807,51.1352 411.915,50.6988 \n",
       "  412.023,50.2639 412.132,49.8305 412.24,49.3987 412.348,48.9685 412.457,48.5398 412.565,48.1127 412.673,47.6873 412.781,47.2634 412.89,46.8412 412.998,46.4206 \n",
       "  413.106,46.0018 413.214,45.5845 413.323,45.169 413.431,44.7552 413.539,44.3431 413.647,43.9328 413.756,43.5242 413.864,43.1174 413.972,42.7123 414.08,42.309 \n",
       "  414.189,41.9076 414.297,41.5079 414.405,41.11 414.513,40.714 414.622,40.3199 414.73,39.9276 414.838,39.5372 414.946,39.1486 415.055,38.7619 415.163,38.3772 \n",
       "  415.271,37.9943 415.38,37.6134 415.488,37.2344 415.596,36.8574 415.704,36.4823 415.813,36.1091 415.921,35.738 416.029,35.3688 416.137,35.0016 416.246,34.6364 \n",
       "  416.354,34.2732 416.462,33.912 416.57,33.5528 416.679,33.1956 416.787,32.8405 416.895,32.4875 417.003,32.1365 417.112,31.7875 417.22,31.4406 417.328,31.0958 \n",
       "  417.436,30.753 417.545,30.4123 417.653,30.0738 417.761,29.7373 417.869,29.4029 417.978,29.0706 418.086,28.7404 418.194,28.4124 418.302,28.0864 418.411,27.7626 \n",
       "  418.519,27.4409 418.627,27.1214 418.736,26.804 418.844,26.4887 418.952,26.1756 419.06,25.8646 419.169,25.5558 419.277,25.2491 419.385,24.9446 419.493,24.6423 \n",
       "  419.602,24.3421 419.71,24.0442 419.818,23.7483 419.926,23.4547 420.035,23.1632 420.143,22.8739 420.251,22.5868 420.359,22.3019 420.468,22.0192 420.576,21.7387 \n",
       "  420.684,21.4603 420.792,21.1842 420.901,20.9103 421.009,20.6385 421.117,20.3689 421.225,20.1016 421.334,19.8364 421.442,19.5735 421.55,19.3128 421.658,19.0542 \n",
       "  421.767,18.7979 421.875,18.5438 421.983,18.2918 422.092,18.0421 422.2,17.7946 422.308,17.5494 422.416,17.3063 422.525,17.0654 422.633,16.8268 422.741,16.5903 \n",
       "  422.849,16.3561 422.958,16.1241 423.066,15.8942 423.174,15.6666 423.282,15.4413 423.391,15.2181 423.499,14.9971 423.607,14.7784 423.715,14.5618 423.824,14.3475 \n",
       "  423.932,14.1354 424.04,13.9255 424.148,13.7178 424.257,13.5123 424.365,13.309 424.473,13.1079 424.581,12.9091 424.69,12.7124 424.798,12.518 424.906,12.3257 \n",
       "  425.015,12.1357 425.123,11.9478 425.231,11.7622 425.339,11.5788 425.448,11.3975 425.556,11.2185 425.664,11.0417 425.772,10.8671 425.881,10.6946 425.989,10.5244 \n",
       "  426.097,10.3564 426.205,10.1905 426.314,10.0269 426.422,9.86544 426.53,9.70619 426.638,9.54912 426.747,9.39425 426.855,9.24157 426.963,9.09108 427.071,8.94277 \n",
       "  427.18,8.79665 427.288,8.65272 427.396,8.51097 427.504,8.37141 427.613,8.23403 427.721,8.09883 427.829,7.96581 427.937,7.83497 428.046,7.70631 428.154,7.57983 \n",
       "  428.262,7.45552 428.371,7.33339 428.479,7.21343 428.587,7.09565 428.695,6.98004 428.804,6.8666 428.912,6.75533 429.02,6.64622 429.128,6.53929 429.237,6.43452 \n",
       "  429.345,6.33192 429.453,6.23149 429.561,6.13322 429.67,6.03711 429.778,5.94316 429.886,5.85138 429.994,5.76175 430.103,5.67428 430.211,5.58898 430.319,5.50583 \n",
       "  430.427,5.42483 430.536,5.34599 430.644,5.26931 430.752,5.19478 430.86,5.1224 430.969,5.05218 431.077,4.9841 431.185,4.91818 431.294,4.8544 431.402,4.79278 \n",
       "  431.51,4.7333 431.618,4.67597 431.727,4.62079 431.835,4.56775 431.943,4.51686 432.051,4.46811 432.16,4.42151 432.268,4.37704 432.376,4.33472 432.484,4.29455 \n",
       "  432.593,4.25651 432.701,4.22062 432.809,4.18686 432.917,4.15525 433.026,4.12577 433.134,4.09843 433.242,4.07323 433.35,4.05017 433.459,4.02924 433.567,4.01045 \n",
       "  433.675,3.9938 433.783,3.97928 433.892,3.9669 434,3.95665 434.108,3.94854 434.216,3.94256 434.325,3.93872 434.433,3.93701 434.541,3.93743 434.65,3.93999 \n",
       "  434.758,3.94468 434.866,3.9515 434.974,3.96046 435.083,3.97155 435.191,3.98477 435.299,4.00012 435.407,4.01761 435.516,4.03722 435.624,4.05897 435.732,4.08286 \n",
       "  435.84,4.10887 435.949,4.13702 436.057,4.16729 436.165,4.19971 436.273,4.23425 436.382,4.27092 436.49,4.30973 436.598,4.35067 436.706,4.39375 436.815,4.43895 \n",
       "  436.923,4.48629 437.031,4.53577 437.139,4.58737 437.248,4.64111 437.356,4.69699 437.464,4.755 437.573,4.81514 437.681,4.87742 437.789,4.94184 437.897,5.00839 \n",
       "  438.006,5.07708 438.114,5.1479 438.222,5.22086 438.33,5.29596 438.439,5.3732 438.547,5.45258 438.655,5.53409 438.763,5.61775 438.872,5.70355 438.98,5.79148 \n",
       "  439.088,5.88156 439.196,5.97378 439.305,6.06815 439.413,6.16465 439.521,6.26331 439.629,6.3641 439.738,6.46705 439.846,6.57214 439.954,6.67937 440.062,6.78876 \n",
       "  440.171,6.90029 440.279,7.01397 440.387,7.12981 440.495,7.24779 440.604,7.36793 440.712,7.49022 440.82,7.61466 440.929,7.74126 441.037,7.87001 441.145,8.00092 \n",
       "  441.253,8.13399 441.362,8.26922 441.47,8.4066 441.578,8.54615 441.686,8.68786 441.795,8.83173 441.903,8.97777 442.011,9.12597 442.119,9.27633 442.228,9.42886 \n",
       "  442.336,9.58356 442.444,9.74043 442.552,9.89947 442.661,10.0607 442.769,10.2241 442.877,10.3896 442.985,10.5574 443.094,10.7273 443.202,10.8994 443.31,11.0736 \n",
       "  443.418,11.2501 443.527,11.4287 443.635,11.6095 443.743,11.7925 443.851,11.9777 443.96,12.165 444.068,12.3546 444.176,12.5463 444.285,12.7402 444.393,12.9363 \n",
       "  444.501,13.1346 444.609,13.3351 444.718,13.5378 444.826,13.7427 444.934,13.9498 445.042,14.1591 445.151,14.3706 445.259,14.5842 445.367,14.8001 445.475,15.0182 \n",
       "  445.584,15.2385 445.692,15.461 445.8,15.6857 445.908,15.9126 446.017,16.1417 446.125,16.373 446.233,16.6066 446.341,16.8423 446.45,17.0803 446.558,17.3205 \n",
       "  446.666,17.5628 446.774,17.8075 446.883,18.0543 446.991,18.3033 447.099,18.5546 447.208,18.8081 447.316,19.0638 447.424,19.3217 447.532,19.5819 447.641,19.8442 \n",
       "  447.749,20.1088 447.857,20.3757 447.965,20.6447 448.074,20.916 448.182,21.1895 448.29,21.4652 448.398,21.7432 448.507,22.0234 448.615,22.3058 448.723,22.5905 \n",
       "  448.831,22.8774 448.94,23.1665 449.048,23.4578 449.156,23.7514 449.264,24.0473 449.373,24.3453 449.481,24.6456 449.589,24.9481 449.697,25.2529 449.806,25.5599 \n",
       "  449.914,25.8691 450.022,26.1805 450.13,26.4942 450.239,26.8101 450.347,27.1283 450.455,27.4487 450.564,27.7713 450.672,28.0961 450.78,28.4232 450.888,28.7525 \n",
       "  450.997,29.084 451.105,29.4178 451.213,29.7538 451.321,30.092 451.43,30.4324 451.538,30.7751 451.646,31.12 451.754,31.4671 451.863,31.8164 451.971,32.1679 \n",
       "  452.079,32.5217 452.187,32.8777 452.296,33.2358 452.404,33.5962 452.512,33.9588 452.62,34.3236 452.729,34.6906 452.837,35.0598 452.945,35.4312 453.053,35.8048 \n",
       "  453.162,36.1805 453.27,36.5585 453.378,36.9386 453.487,37.3209 453.595,37.7054 453.703,38.0921 453.811,38.4809 453.92,38.8719 454.028,39.2651 454.136,39.6604 \n",
       "  454.244,40.0578 454.353,40.4574 454.461,40.8592 454.569,41.2631 454.677,41.6691 454.786,42.0772 454.894,42.4874 455.002,42.8998 455.11,43.3142 455.219,43.7308 \n",
       "  455.327,44.1494 455.435,44.5702 455.543,44.993 455.652,45.4179 455.76,45.8448 455.868,46.2738 455.976,46.7049 456.085,47.138 456.193,47.5731 456.301,48.0102 \n",
       "  456.409,48.4494 456.518,48.8905 456.626,49.3337 456.734,49.7788 456.843,50.226 456.951,50.6751 457.059,51.1261 457.167,51.5791 457.276,52.034 457.384,52.4909 \n",
       "  457.492,52.9496 457.6,53.4103 457.709,53.8729 457.817,54.3373 457.925,54.8036 458.033,55.2718 458.142,55.7418 458.25,56.2136 458.358,56.6873 458.466,57.1627 \n",
       "  458.575,57.64 458.683,58.119 458.791,58.5998 458.899,59.0823 459.008,59.5666 459.116,60.0525 459.224,60.5402 459.332,61.0296 459.441,61.5206 459.549,62.0134 \n",
       "  459.657,62.5077 459.766,63.0037 459.874,63.5013 459.982,64.0004 460.09,64.5012 460.199,65.0035 460.307,65.5074 460.415,66.0128 460.523,66.5197 460.632,67.028 \n",
       "  460.74,67.5379 460.848,68.0492 460.956,68.562 461.065,69.0761 461.173,69.5917 461.281,70.1087 461.389,70.627 461.498,71.1466 461.606,71.6676 461.714,72.1899 \n",
       "  461.822,72.7134 461.931,73.2383 462.039,73.7643 462.147,74.2917 462.255,74.8202 462.364,75.3499 462.472,75.8807 462.58,76.4127 462.688,76.9458 462.797,77.4801 \n",
       "  462.905,78.0154 463.013,78.5518 463.122,79.0892 463.23,79.6276 463.338,80.1671 463.446,80.7075 463.555,81.2489 463.663,81.7912 463.771,82.3345 463.879,82.8786 \n",
       "  463.988,83.4236 464.096,83.9695 464.204,84.5162 464.312,85.0637 464.421,85.612 464.529,86.1611 464.637,86.7109 464.745,87.2615 464.854,87.8127 464.962,88.3647 \n",
       "  465.07,88.9173 465.178,89.4705 465.287,90.0244 465.395,90.5789 465.503,91.134 465.611,91.6897 465.72,92.2458 465.828,92.8025 465.936,93.3598 466.044,93.9175 \n",
       "  466.153,94.4756 466.261,95.0342 466.369,95.5933 466.478,96.1527 466.586,96.7125 466.694,97.2727 466.802,97.8332 466.911,98.3941 467.019,98.9553 467.127,99.5167 \n",
       "  467.235,100.078 467.344,100.64 467.452,101.203 467.56,101.765 467.668,102.328 467.777,102.891 467.885,103.454 467.993,104.017 468.101,104.58 468.21,105.143 \n",
       "  468.318,105.707 468.426,106.27 468.534,106.834 468.643,107.398 468.751,107.961 468.859,108.525 468.967,109.089 469.076,109.652 469.184,110.216 469.292,110.779 \n",
       "  469.401,111.343 469.509,111.906 469.617,112.47 469.725,113.033 469.834,113.596 469.942,114.159 470.05,114.722 470.158,115.284 470.267,115.847 470.375,116.409 \n",
       "  470.483,116.971 470.591,117.533 470.7,118.095 470.808,118.656 470.916,119.217 471.024,119.778 471.133,120.338 471.241,120.899 471.349,121.459 471.457,122.018 \n",
       "  471.566,122.577 471.674,123.136 471.782,123.695 471.89,124.253 471.999,124.811 472.107,125.368 472.215,125.925 472.323,126.482 472.432,127.038 472.54,127.594 \n",
       "  472.648,128.149 472.757,128.704 472.865,129.258 472.973,129.812 473.081,130.366 473.19,130.919 473.298,131.471 473.406,132.023 473.514,132.574 473.623,133.125 \n",
       "  473.731,133.676 473.839,134.225 473.947,134.775 474.056,135.323 474.164,135.871 474.272,136.419 474.38,136.966 474.489,137.512 474.597,138.058 474.705,138.603 \n",
       "  474.813,139.147 474.922,139.691 475.03,140.234 475.138,140.776 475.246,141.318 475.355,141.859 475.463,142.4 475.571,142.94 475.68,143.479 475.788,144.017 \n",
       "  475.896,144.555 476.004,145.092 476.113,145.628 476.221,146.164 476.329,146.699 476.437,147.233 476.546,147.766 476.654,148.299 476.762,148.83 476.87,149.361 \n",
       "  476.979,149.892 477.087,150.421 477.195,150.95 477.303,151.478 477.412,152.005 477.52,152.531 477.628,153.057 477.736,153.581 477.845,154.105 477.953,154.628 \n",
       "  478.061,155.151 478.169,155.672 478.278,156.192 478.386,156.712 478.494,157.231 478.602,157.749 478.711,158.266 478.819,158.782 478.927,159.297 479.036,159.811 \n",
       "  479.144,160.325 479.252,160.837 479.36,161.349 479.469,161.86 479.577,162.369 479.685,162.878 479.793,163.386 479.902,163.893 480.01,164.399 480.118,164.904 \n",
       "  480.226,165.408 480.335,165.911 480.443,166.413 480.551,166.915 480.659,167.415 480.768,167.914 480.876,168.412 480.984,168.909 481.092,169.406 481.201,169.901 \n",
       "  481.309,170.395 481.417,170.888 481.525,171.38 481.634,171.871 481.742,172.361 481.85,172.85 481.959,173.338 482.067,173.825 482.175,174.31 482.283,174.795 \n",
       "  482.392,175.279 482.5,175.761 482.608,176.243 482.716,176.723 482.825,177.202 482.933,177.68 483.041,178.157 483.149,178.633 483.258,179.108 483.366,179.581 \n",
       "  483.474,180.054 483.582,180.525 483.691,180.995 483.799,181.464 483.907,181.932 484.015,182.398 484.124,182.864 484.232,183.328 484.34,183.791 484.448,184.253 \n",
       "  484.557,184.713 484.665,185.173 484.773,185.631 484.881,186.088 484.99,186.544 485.098,186.998 485.206,187.451 485.315,187.903 485.423,188.354 485.531,188.804 \n",
       "  485.639,189.252 485.748,189.699 485.856,190.144 485.964,190.589 486.072,191.032 486.181,191.473 486.289,191.914 486.397,192.353 486.505,192.79 486.614,193.227 \n",
       "  486.722,193.662 486.83,194.096 486.938,194.528 487.047,194.959 487.155,195.389 487.263,195.817 487.371,196.244 487.48,196.669 487.588,197.093 487.696,197.516 \n",
       "  487.804,197.937 487.913,198.357 488.021,198.776 488.129,199.192 488.237,199.608 488.346,200.022 488.454,200.435 488.562,200.846 488.671,201.256 488.779,201.664 \n",
       "  488.887,202.071 488.995,202.476 489.104,202.879 489.212,203.282 489.32,203.682 489.428,204.082 489.537,204.479 489.645,204.875 489.753,205.27 489.861,205.663 \n",
       "  489.97,206.054 490.078,206.444 490.186,206.833 490.294,207.219 490.403,207.604 490.511,207.988 490.619,208.37 490.727,208.75 490.836,209.129 490.944,209.506 \n",
       "  491.052,209.881 491.16,210.255 491.269,210.627 491.377,210.997 491.485,211.366 491.594,211.733 491.702,212.099 491.81,212.462 491.918,212.824 492.027,213.185 \n",
       "  492.135,213.543 492.243,213.9 492.351,214.255 492.46,214.608 492.568,214.96 492.676,215.31 492.784,215.658 492.893,216.004 493.001,216.349 493.109,216.691 \n",
       "  493.217,217.032 493.326,217.371 493.434,217.708 493.542,218.044 493.65,218.377 493.759,218.709 493.867,219.039 493.975,219.367 494.083,219.693 494.192,220.017 \n",
       "  494.3,220.34 494.408,220.66 494.516,220.979 494.625,221.295 494.733,221.61 494.841,221.923 494.95,222.234 495.058,222.543 495.166,222.85 495.274,223.155 \n",
       "  495.383,223.458 495.491,223.759 495.599,224.058 495.707,224.355 495.816,224.65 495.924,224.943 496.032,225.234 496.14,225.522 496.249,225.809 496.357,226.094 \n",
       "  496.465,226.377 496.573,226.658 496.682,226.936 496.79,227.213 496.898,227.487 497.006,227.759 497.115,228.03 497.223,228.298 497.331,228.564 497.439,228.827 \n",
       "  497.548,229.089 497.656,229.348 497.764,229.606 497.873,229.861 497.981,230.114 498.089,230.364 498.197,230.613 498.306,230.859 498.414,231.103 498.522,231.345 \n",
       "  498.63,231.585 498.739,231.822 498.847,232.057 498.955,232.29 499.063,232.52 499.172,232.749 499.28,232.975 499.388,233.198 499.496,233.42 499.605,233.639 \n",
       "  499.713,233.855 499.821,234.07 499.929,234.282 500.038,234.491 500.146,234.698 500.254,234.903 500.362,235.106 500.471,235.306 500.579,235.504 500.687,235.699 \n",
       "  500.795,235.892 500.904,236.082 501.012,236.27 501.12,236.456 501.229,236.639 501.337,236.819 501.445,236.997 501.553,237.173 501.662,237.346 501.77,237.517 \n",
       "  501.878,237.685 501.986,237.851 502.095,238.014 502.203,238.174 502.311,238.332 502.419,238.488 502.528,238.641 502.636,238.791 502.744,238.939 502.852,239.084 \n",
       "  502.961,239.226 503.069,239.366 503.177,239.504 503.285,239.639 503.394,239.771 503.502,239.9 503.61,240.027 503.718,240.151 503.827,240.273 503.935,240.392 \n",
       "  504.043,240.508 504.151,240.621 504.26,240.732 504.368,240.84 504.476,240.946 504.585,241.049 504.693,241.149 504.801,241.246 504.909,241.34 505.018,241.432 \n",
       "  505.126,241.521 505.234,241.608 505.342,241.691 505.451,241.772 505.559,241.85 505.667,241.926 505.775,241.998 505.884,242.068 505.992,242.135 506.1,242.199 \n",
       "  506.208,242.26 506.317,242.319 506.425,242.375 506.533,242.428 506.641,242.478 506.75,242.525 506.858,242.57 506.966,242.611 507.074,242.65 507.183,242.686 \n",
       "  507.291,242.719 507.399,242.749 507.508,242.777 507.616,242.802 507.724,242.823 507.832,242.842 507.941,242.858 508.049,242.872 508.157,242.882 508.265,242.89 \n",
       "  508.374,242.894 508.482,242.896 508.59,242.895 508.698,242.892 508.807,242.885 508.915,242.875 509.023,242.863 509.131,242.848 509.24,242.83 509.348,242.809 \n",
       "  509.456,242.786 509.564,242.759 509.673,242.73 509.781,242.698 509.889,242.663 509.997,242.625 510.106,242.585 510.214,242.542 510.322,242.496 510.43,242.447 \n",
       "  510.539,242.396 510.647,242.342 510.755,242.285 510.864,242.225 510.972,242.163 511.08,242.098 511.188,242.03 511.297,241.96 511.405,241.887 511.513,241.812 \n",
       "  511.621,241.733 511.73,241.653 511.838,241.569 511.946,241.484 512.054,241.395 512.163,241.305 512.271,241.211 512.379,241.116 512.487,241.017 512.596,240.917 \n",
       "  512.704,240.814 512.812,240.709 512.92,240.601 513.029,240.491 513.137,240.379 513.245,240.265 513.353,240.148 513.462,240.029 513.57,239.908 513.678,239.785 \n",
       "  513.787,239.66 513.895,239.533 514.003,239.404 514.111,239.273 514.22,239.14 514.328,239.006 514.436,238.869 514.544,238.731 514.653,238.59 514.761,238.449 \n",
       "  514.869,238.305 514.977,238.16 515.086,238.013 515.194,237.865 515.302,237.715 515.41,237.564 515.519,237.412 515.627,237.258 515.735,237.103 515.843,236.947 \n",
       "  515.952,236.789 516.06,236.631 516.168,236.471 516.276,236.311 516.385,236.149 516.493,235.987 516.601,235.823 516.709,235.659 516.818,235.494 516.926,235.329 \n",
       "  517.034,235.163 517.143,234.996 517.251,234.829 517.359,234.662 517.467,234.494 517.576,234.325 517.684,234.157 517.792,233.988 517.9,233.819 518.009,233.65 \n",
       "  518.117,233.481 518.225,233.312 518.333,233.143 518.442,232.974 518.55,232.805 518.658,232.637 518.766,232.469 518.875,232.301 518.983,232.133 519.091,231.966 \n",
       "  519.199,231.8 519.308,231.634 519.416,231.469 519.524,231.304 519.632,231.14 519.741,230.977 519.849,230.815 519.957,230.654 520.066,230.493 520.174,230.334 \n",
       "  520.282,230.175 520.39,230.018 520.499,229.861 520.607,229.706 520.715,229.552 520.823,229.399 520.932,229.248 521.04,229.098 521.148,228.949 521.256,228.801 \n",
       "  521.365,228.655 521.473,228.51 521.581,228.367 521.689,228.226 521.798,228.086 521.906,227.947 522.014,227.81 522.122,227.675 522.231,227.542 522.339,227.41 \n",
       "  522.447,227.28 522.555,227.152 522.664,227.025 522.772,226.901 522.88,226.778 522.988,226.657 523.097,226.538 523.205,226.421 523.313,226.306 523.422,226.192 \n",
       "  523.53,226.081 523.638,225.972 523.746,225.864 523.855,225.759 523.963,225.656 524.071,225.555 524.179,225.456 524.288,225.359 524.396,225.264 524.504,225.171 \n",
       "  524.612,225.08 524.721,224.991 524.829,224.905 524.937,224.821 525.045,224.739 525.154,224.658 525.262,224.581 525.37,224.505 525.478,224.432 525.587,224.36 \n",
       "  525.695,224.291 525.803,224.224 525.911,224.16 526.02,224.097 526.128,224.037 526.236,223.979 526.344,223.923 526.453,223.869 526.561,223.818 526.669,223.768 \n",
       "  526.778,223.721 526.886,223.677 526.994,223.634 527.102,223.594 527.211,223.556 527.319,223.52 527.427,223.486 527.535,223.455 527.644,223.425 527.752,223.398 \n",
       "  527.86,223.373 527.968,223.351 528.077,223.33 528.185,223.312 528.293,223.296 528.401,223.282 528.51,223.27 528.618,223.261 528.726,223.253 528.834,223.248 \n",
       "  528.943,223.245 529.051,223.244 529.159,223.245 529.267,223.249 529.376,223.254 529.484,223.262 529.592,223.272 529.701,223.283 529.809,223.297 529.917,223.314 \n",
       "  530.025,223.332 530.134,223.352 530.242,223.374 530.35,223.399 530.458,223.425 530.567,223.454 530.675,223.485 530.783,223.517 530.891,223.552 531,223.589 \n",
       "  531.108,223.628 531.216,223.668 531.324,223.711 531.433,223.756 531.541,223.803 531.649,223.851 531.757,223.902 531.866,223.955 531.974,224.01 532.082,224.066 \n",
       "  532.19,224.125 532.299,224.185 532.407,224.247 532.515,224.312 532.623,224.378 532.732,224.446 532.84,224.516 532.948,224.588 533.057,224.661 533.165,224.737 \n",
       "  533.273,224.814 533.381,224.894 533.49,224.975 533.598,225.058 533.706,225.142 533.814,225.229 533.923,225.317 534.031,225.407 534.139,225.499 534.247,225.593 \n",
       "  534.356,225.688 534.464,225.785 534.572,225.884 534.68,225.984 534.789,226.087 534.897,226.191 535.005,226.296 535.113,226.404 535.222,226.513 535.33,226.623 \n",
       "  535.438,226.736 535.546,226.85 535.655,226.965 535.763,227.083 535.871,227.201 535.98,227.322 536.088,227.444 536.196,227.568 536.304,227.693 536.413,227.82 \n",
       "  536.521,227.948 536.629,228.078 536.737,228.21 536.846,228.343 536.954,228.477 537.062,228.613 537.17,228.751 537.279,228.89 537.387,229.031 537.495,229.173 \n",
       "  537.603,229.316 537.712,229.461 537.82,229.608 537.928,229.756 538.036,229.905 538.145,230.056 538.253,230.208 538.361,230.361 538.469,230.516 538.578,230.673 \n",
       "  538.686,230.83 538.794,230.989 538.902,231.15 539.011,231.311 539.119,231.475 539.227,231.639 539.336,231.805 539.444,231.972 539.552,232.14 539.66,232.31 \n",
       "  539.769,232.481 539.877,232.653 539.985,232.826 540.093,233.001 540.202,233.177 540.31,233.354 540.418,233.533 540.526,233.713 540.635,233.893 540.743,234.075 \n",
       "  540.851,234.259 540.959,234.443 541.068,234.629 541.176,234.816 541.284,235.004 541.392,235.193 541.501,235.383 541.609,235.574 541.717,235.767 541.825,235.96 \n",
       "  541.934,236.155 542.042,236.351 542.15,236.548 542.259,236.746 542.367,236.945 542.475,237.145 542.583,237.346 542.692,237.548 542.8,237.752 542.908,237.956 \n",
       "  543.016,238.161 543.125,238.367 543.233,238.575 543.341,238.783 543.449,238.992 543.558,239.203 543.666,239.414 543.774,239.626 543.882,239.839 543.991,240.053 \n",
       "  544.099,240.268 544.207,240.484 544.315,240.701 544.424,240.919 544.532,241.137 544.64,241.357 544.748,241.577 544.857,241.799 544.965,242.021 545.073,242.244 \n",
       "  545.181,242.468 545.29,242.692 545.398,242.918 545.506,243.144 545.615,243.371 545.723,243.599 545.831,243.828 545.939,244.058 546.048,244.288 546.156,244.52 \n",
       "  546.264,244.751 546.372,244.984 546.481,245.218 546.589,245.452 546.697,245.687 546.805,245.923 546.914,246.159 547.022,246.396 547.13,246.634 547.238,246.873 \n",
       "  547.347,247.112 547.455,247.352 547.563,247.592 547.671,247.834 547.78,248.076 547.888,248.318 547.996,248.561 548.104,248.805 548.213,249.05 548.321,249.295 \n",
       "  548.429,249.541 548.537,249.787 548.646,250.034 548.754,250.282 548.862,250.53 548.971,250.779 549.079,251.028 549.187,251.278 549.295,251.529 549.404,251.78 \n",
       "  549.512,252.031 549.62,252.283 549.728,252.536 549.837,252.789 549.945,253.043 550.053,253.297 550.161,253.552 550.27,253.807 550.378,254.063 550.486,254.319 \n",
       "  550.594,254.575 550.703,254.833 550.811,255.09 550.919,255.348 551.027,255.607 551.136,255.866 551.244,256.125 551.352,256.385 551.46,256.645 551.569,256.906 \n",
       "  551.677,257.167 551.785,257.428 551.894,257.69 552.002,257.952 552.11,258.215 552.218,258.478 552.327,258.741 552.435,259.005 552.543,259.269 552.651,259.533 \n",
       "  552.76,259.798 552.868,260.063 552.976,260.329 553.084,260.595 553.193,260.861 553.301,261.127 553.409,261.394 553.517,261.661 553.626,261.928 553.734,262.196 \n",
       "  553.842,262.464 553.95,262.732 554.059,263 554.167,263.269 554.275,263.538 554.383,263.807 554.492,264.076 554.6,264.346 554.708,264.616 554.816,264.886 \n",
       "  554.925,265.156 555.033,265.427 555.141,265.698 555.25,265.969 555.358,266.24 555.466,266.511 555.574,266.783 555.683,267.054 555.791,267.326 555.899,267.598 \n",
       "  556.007,267.871 556.116,268.143 556.224,268.416 556.332,268.688 556.44,268.961 556.549,269.234 556.657,269.507 556.765,269.78 556.873,270.054 556.982,270.327 \n",
       "  557.09,270.601 557.198,270.874 557.306,271.148 557.415,271.422 557.523,271.696 557.631,271.97 557.739,272.244 557.848,272.518 557.956,272.792 558.064,273.067 \n",
       "  558.173,273.341 558.281,273.615 558.389,273.89 558.497,274.164 558.606,274.439 558.714,274.713 558.822,274.988 558.93,275.263 559.039,275.537 559.147,275.812 \n",
       "  559.255,276.086 559.363,276.361 559.472,276.636 559.58,276.91 559.688,277.185 559.796,277.459 559.905,277.734 560.013,278.008 560.121,278.283 560.229,278.557 \n",
       "  560.338,278.831 560.446,279.106 560.554,279.38 560.662,279.654 560.771,279.928 560.879,280.203 560.987,280.477 561.095,280.75 561.204,281.024 561.312,281.298 \n",
       "  561.42,281.572 561.529,281.845 561.637,282.119 561.745,282.392 561.853,282.665 561.962,282.939 562.07,283.212 562.178,283.484 562.286,283.757 562.395,284.03 \n",
       "  562.503,284.302 562.611,284.575 562.719,284.847 562.828,285.119 562.936,285.391 563.044,285.663 563.152,285.934 563.261,286.206 563.369,286.477 563.477,286.748 \n",
       "  563.585,287.019 563.694,287.29 563.802,287.56 563.91,287.831 564.018,288.101 564.127,288.371 564.235,288.641 564.343,288.91 564.452,289.18 564.56,289.449 \n",
       "  564.668,289.718 564.776,289.986 564.885,290.255 564.993,290.523 565.101,290.791 565.209,291.059 565.318,291.326 565.426,291.594 565.534,291.861 565.642,292.128 \n",
       "  565.751,292.394 565.859,292.66 565.967,292.926 566.075,293.192 566.184,293.458 566.292,293.723 566.4,293.988 566.508,294.252 566.617,294.517 566.725,294.781 \n",
       "  566.833,295.044 566.941,295.308 567.05,295.571 567.158,295.834 567.266,296.097 567.374,296.359 567.483,296.621 567.591,296.882 567.699,297.144 567.808,297.404 \n",
       "  567.916,297.665 568.024,297.925 568.132,298.185 568.241,298.445 568.349,298.704 568.457,298.963 568.565,299.222 568.674,299.48 568.782,299.738 568.89,299.995 \n",
       "  568.998,300.253 569.107,300.509 569.215,300.766 569.323,301.022 569.431,301.277 569.54,301.533 569.648,301.788 569.756,302.042 569.864,302.296 569.973,302.55 \n",
       "  570.081,302.803 570.189,303.056 570.297,303.309 570.406,303.561 570.514,303.813 570.622,304.064 570.73,304.315 570.839,304.565 570.947,304.815 571.055,305.065 \n",
       "  571.164,305.314 571.272,305.563 571.38,305.811 571.488,306.059 571.597,306.307 571.705,306.554 571.813,306.8 571.921,307.046 572.03,307.292 572.138,307.537 \n",
       "  572.246,307.782 572.354,308.027 572.463,308.27 572.571,308.514 572.679,308.757 572.787,308.999 572.896,309.241 573.004,309.483 573.112,309.724 573.22,309.964 \n",
       "  573.329,310.204 573.437,310.444 573.545,310.683 573.653,310.921 573.762,311.159 573.87,311.397 573.978,311.634 574.087,311.871 574.195,312.107 574.303,312.342 \n",
       "  574.411,312.577 574.52,312.812 574.628,313.046 574.736,313.279 574.844,313.512 574.953,313.745 575.061,313.976 575.169,314.208 575.277,314.439 575.386,314.669 \n",
       "  575.494,314.899 575.602,315.128 575.71,315.356 575.819,315.585 575.927,315.812 576.035,316.039 576.143,316.266 576.252,316.491 576.36,316.717 576.468,316.941 \n",
       "  576.576,317.166 576.685,317.389 576.793,317.612 576.901,317.835 577.009,318.057 577.118,318.278 577.226,318.499 577.334,318.719 577.443,318.938 577.551,319.157 \n",
       "  577.659,319.376 577.767,319.593 577.876,319.81 577.984,320.027 578.092,320.243 578.2,320.458 578.309,320.673 578.417,320.887 578.525,321.101 578.633,321.313 \n",
       "  578.742,321.526 578.85,321.737 578.958,321.948 579.066,322.159 579.175,322.369 579.283,322.578 579.391,322.786 579.499,322.994 579.608,323.201 579.716,323.408 \n",
       "  579.824,323.614 579.932,323.819 580.041,324.024 580.149,324.228 580.257,324.431 580.366,324.634 580.474,324.836 580.582,325.037 580.69,325.238 580.799,325.438 \n",
       "  580.907,325.637 581.015,325.836 581.123,326.034 581.232,326.231 581.34,326.428 581.448,326.624 581.556,326.819 581.665,327.013 581.773,327.207 581.881,327.401 \n",
       "  581.989,327.593 582.098,327.785 582.206,327.976 582.314,328.166 582.422,328.356 582.531,328.545 582.639,328.734 582.747,328.921 582.855,329.108 582.964,329.294 \n",
       "  583.072,329.48 583.18,329.664 583.288,329.848 583.397,330.032 583.505,330.214 583.613,330.396 583.722,330.577 583.83,330.758 583.938,330.937 584.046,331.116 \n",
       "  584.155,331.294 584.263,331.472 584.371,331.648 584.479,331.824 584.588,331.999 584.696,332.174 584.804,332.347 584.912,332.52 585.021,332.692 585.129,332.864 \n",
       "  585.237,333.034 585.345,333.204 585.454,333.373 585.562,333.542 585.67,333.709 585.778,333.876 585.887,334.042 585.995,334.207 586.103,334.372 586.211,334.535 \n",
       "  586.32,334.698 586.428,334.86 586.536,335.021 586.644,335.182 586.753,335.341 586.861,335.5 586.969,335.658 587.078,335.816 587.186,335.972 587.294,336.128 \n",
       "  587.402,336.283 587.511,336.437 587.619,336.59 587.727,336.742 587.835,336.894 587.944,337.045 588.052,337.195 588.16,337.344 588.268,337.492 588.377,337.639 \n",
       "  588.485,337.786 588.593,337.932 588.701,338.077 588.81,338.221 588.918,338.364 589.026,338.506 589.134,338.648 589.243,338.789 589.351,338.929 589.459,339.068 \n",
       "  589.567,339.206 589.676,339.343 589.784,339.479 589.892,339.615 590.001,339.75 590.109,339.884 590.217,340.017 590.325,340.149 590.434,340.28 590.542,340.41 \n",
       "  590.65,340.54 590.758,340.668 590.867,340.796 590.975,340.923 591.083,341.049 591.191,341.174 591.3,341.298 591.408,341.421 591.516,341.544 591.624,341.665 \n",
       "  591.733,341.786 591.841,341.905 591.949,342.024 592.057,342.142 592.166,342.259 592.274,342.375 592.382,342.49 592.49,342.605 592.599,342.718 592.707,342.83 \n",
       "  592.815,342.942 592.923,343.052 593.032,343.162 593.14,343.271 593.248,343.378 593.357,343.485 593.465,343.591 593.573,343.696 593.681,343.8 593.79,343.903 \n",
       "  593.898,344.005 594.006,344.106 594.114,344.207 594.223,344.306 594.331,344.404 594.439,344.502 594.547,344.598 594.656,344.694 594.764,344.788 594.872,344.882 \n",
       "  594.98,344.974 595.089,345.066 595.197,345.157 595.305,345.246 595.413,345.335 595.522,345.423 595.63,345.51 595.738,345.595 595.846,345.68 595.955,345.764 \n",
       "  596.063,345.847 \n",
       "  \"/>\n",
       "<polygon clip-path=\"url(#clip00)\" points=\"\n",
       "470.632,55.057 578.063,55.057 578.063,24.817 470.632,24.817 \n",
       "  \" fill=\"#ffffff\" fill-opacity=\"1\"/>\n",
       "<polyline clip-path=\"url(#clip00)\" style=\"stroke:#00002d; stroke-width:0.8; stroke-opacity:1; fill:none\" points=\"\n",
       "  470.632,55.057 578.063,55.057 578.063,24.817 470.632,24.817 470.632,55.057 \n",
       "  \"/>\n",
       "<polyline clip-path=\"url(#clip00)\" style=\"stroke:#0099ff; stroke-width:0.8; stroke-opacity:1; fill:none\" points=\"\n",
       "  476.632,39.937 512.632,39.937 \n",
       "  \"/>\n",
       "<g clip-path=\"url(#clip00)\">\n",
       "<text style=\"fill:#00002d; fill-opacity:1; font-family:Arial,Helvetica Neue,Helvetica,sans-serif; font-size:12; text-anchor:start;\" transform=\"rotate(0, 518.632, 44.437)\" x=\"518.632\" y=\"44.437\">Shoulder</text>\n",
       "</g>\n",
       "</svg>\n"
      ]
     },
     "execution_count": 18,
     "metadata": {},
     "output_type": "execute_result"
    }
   ],
   "source": [
    "plot(ts, collect(q[1] for q in qs), xlabel = \"Time [s]\", ylabel = \"Angle [rad]\", lab = \"Shoulder\")"
   ]
  },
  {
   "cell_type": "markdown",
   "metadata": {},
   "source": [
    "We can also show a 3D visualization of the double pendulum using DrakeVisualizer.\n",
    "\n",
    "First, launch the viewer:"
   ]
  },
  {
   "cell_type": "code",
   "execution_count": 19,
   "metadata": {
    "collapsed": false
   },
   "outputs": [],
   "source": [
    "DrakeVisualizer.any_open_windows() || DrakeVisualizer.new_window();"
   ]
  },
  {
   "cell_type": "code",
   "execution_count": 20,
   "metadata": {
    "collapsed": false
   },
   "outputs": [],
   "source": [
    "vis = Visualizer(parse_urdf(urdf, doublependulum));"
   ]
  },
  {
   "cell_type": "code",
   "execution_count": 21,
   "metadata": {
    "collapsed": false
   },
   "outputs": [],
   "source": [
    "RigidBodyTreeInspector.animate(vis, doublependulum, ts, qs)"
   ]
  },
  {
   "cell_type": "markdown",
   "metadata": {},
   "source": [
    "# Symbolic dynamics"
   ]
  },
  {
   "cell_type": "markdown",
   "metadata": {},
   "source": [
    "## Setup"
   ]
  },
  {
   "cell_type": "code",
   "execution_count": 22,
   "metadata": {
    "collapsed": false
   },
   "outputs": [
    {
     "name": "stderr",
     "output_type": "stream",
     "text": [
      "\u001b[1m\u001b[34mINFO: Building Conda\n",
      "\u001b[0m\u001b[1m\u001b[34mINFO: Building PyCall\n",
      "\u001b[0m\u001b[1m\u001b[34mINFO: Using the Python distribution in the Conda package by default.\n",
      "To use a different Python version, set ENV[\"PYTHON\"]=\"pythoncommand\" and re-run Pkg.build(\"PyCall\").\n",
      "\u001b[0m"
     ]
    },
    {
     "name": "stdout",
     "output_type": "stream",
     "text": [
      "Fetching package metadata .........\n",
      "Solving package specifications: .\n",
      "\n",
      "# All requested packages already installed.\n",
      "# packages in environment at /Users/twan/code/julia/robocon2017/v0.5/Conda/deps/usr:\n",
      "#\n",
      "numpy                     1.12.0                   py27_0  \n"
     ]
    },
    {
     "name": "stderr",
     "output_type": "stream",
     "text": [
      "\u001b[1m\u001b[34mINFO: PyCall is using /Users/twan/code/julia/robocon2017/v0.5/Conda/deps/usr/bin/python (Python 2.7.12) at /Users/twan/code/julia/robocon2017/v0.5/Conda/deps/usr/bin/python, libpython = /Users/twan/code/julia/robocon2017/v0.5/Conda/deps/usr/lib/libpython2.7\n",
      "\u001b[0m\u001b[1m\u001b[34mINFO: /Users/twan/code/julia/robocon2017/v0.5/PyCall/deps/deps.jl has not changed\n",
      "\u001b[0m\u001b[1m\u001b[34mINFO: /Users/twan/code/julia/robocon2017/v0.5/PyCall/deps/PYTHON has not changed\n",
      "\u001b[0m"
     ]
    }
   ],
   "source": [
    "# Make SymPy use version of Python downloaded through Julia's package system instead of system Python\n",
    "ENV[\"PYTHON\"]=\"\"\n",
    "Pkg.build(\"SymPy\")"
   ]
  },
  {
   "cell_type": "code",
   "execution_count": 23,
   "metadata": {
    "collapsed": false
   },
   "outputs": [
    {
     "name": "stderr",
     "output_type": "stream",
     "text": [
      "WARNING: using SymPy.transform in module Main conflicts with an existing identifier.\n"
     ]
    }
   ],
   "source": [
    "using SymPy"
   ]
  },
  {
   "cell_type": "code",
   "execution_count": 24,
   "metadata": {
    "collapsed": false
   },
   "outputs": [],
   "source": [
    "# add a method to Base.flipsign and eps for SymPy. TODO: SymPy PR\n",
    "Base.flipsign(sym::Sym, sign::Number) = sign > 0 ? sym : -sym;\n",
    "Base.eps(::Type{SymPy.Sym}) = zero(Sym)"
   ]
  },
  {
   "cell_type": "code",
   "execution_count": 25,
   "metadata": {
    "collapsed": false
   },
   "outputs": [
    {
     "data": {
      "text/plain": [
       "Vertex: world (root)\n",
       "  Vertex: upper_link, Edge: shoulder\n",
       "    Vertex: lower_link, Edge: elbow"
      ]
     },
     "execution_count": 25,
     "metadata": {},
     "output_type": "execute_result"
    }
   ],
   "source": [
    "doublependulumsym = parse_urdf(Sym, urdf)\n",
    "remove_fixed_joints!(doublependulumsym)"
   ]
  },
  {
   "cell_type": "markdown",
   "metadata": {},
   "source": [
    "## Create symbolic parameters\n",
    "* Masses: $m_1, m_2$\n",
    "* Mass moments of inertia (about center of mass): $I_1, I_2$\n",
    "* Link lengths: $l_1, l_2$\n",
    "* Center of mass locations (w.r.t. preceding joint axis): $c_1, c_2$\n",
    "* Gravitational acceleration: $g$"
   ]
  },
  {
   "cell_type": "code",
   "execution_count": 26,
   "metadata": {
    "collapsed": false
   },
   "outputs": [
    {
     "data": {
      "text/latex": [
       "\\begin{bmatrix}m_{1}\\\\m_{2}\\\\I_{1}\\\\I_{2}\\\\l_{1}\\\\l_{2}\\\\c_{1}\\\\c_{2}\\\\g\\end{bmatrix}"
      ],
      "text/plain": [
       "9-element Array{SymPy.Sym,1}\n",
       "[m_1]\n",
       "[   ]\n",
       "[m_2]\n",
       "[   ]\n",
       "[I_1]\n",
       "[   ]\n",
       "[I_2]\n",
       "[   ]\n",
       "[l_1]\n",
       "[   ]\n",
       "[l_2]\n",
       "[   ]\n",
       "[c_1]\n",
       "[   ]\n",
       "[c_2]\n",
       "[   ]\n",
       "[ g ]"
      ]
     },
     "execution_count": 26,
     "metadata": {},
     "output_type": "execute_result"
    }
   ],
   "source": [
    "inertias = @syms m_1 m_2 I_1 I_2 positive = true\n",
    "lengths = @syms l_1 l_2 c_1 c_2 real = true\n",
    "gravitationalAcceleration = @syms g real = true\n",
    "params = [inertias..., lengths..., gravitationalAcceleration...]"
   ]
  },
  {
   "cell_type": "markdown",
   "metadata": {},
   "source": [
    "Unpack bodies and joints:"
   ]
  },
  {
   "cell_type": "code",
   "execution_count": 27,
   "metadata": {
    "collapsed": false
   },
   "outputs": [],
   "source": [
    "world, upperlink, lowerlink = (bodies(doublependulumsym)...)\n",
    "shoulder, elbow = (joints(doublependulumsym)...);"
   ]
  },
  {
   "cell_type": "markdown",
   "metadata": {},
   "source": [
    "Set symbolic parameters:"
   ]
  },
  {
   "cell_type": "code",
   "execution_count": 28,
   "metadata": {
    "collapsed": false
   },
   "outputs": [],
   "source": [
    "axis = shoulder.jointType.axis\n",
    "spatial_inertia!(upperlink, SpatialInertia(shoulder.frameAfter, I_1 * axis * axis', SVector(0, 0, -c_1), m_1))\n",
    "spatial_inertia!(lowerlink, SpatialInertia(elbow.frameAfter, I_2 * axis * axis', SVector(0, 0, -c_2), m_2))\n",
    "add_frame!(upperlink, Transform3D(elbow.frameBefore, shoulder.frameAfter, SVector(0, 0, l_1)));"
   ]
  },
  {
   "cell_type": "markdown",
   "metadata": {},
   "source": [
    "Create a symbolic `MechanismState`:"
   ]
  },
  {
   "cell_type": "code",
   "execution_count": 29,
   "metadata": {
    "collapsed": false
   },
   "outputs": [],
   "source": [
    "statesym = MechanismState(Sym, doublependulumsym);"
   ]
  },
  {
   "cell_type": "markdown",
   "metadata": {},
   "source": [
    "Set the joint configuration and joint velocity vectors of the `MechanismState` to new vectors of symbolic variables:"
   ]
  },
  {
   "cell_type": "code",
   "execution_count": 30,
   "metadata": {
    "collapsed": false
   },
   "outputs": [
    {
     "data": {
      "text/latex": [
       "\\begin{bmatrix}q_{1}\\\\q_{2}\\end{bmatrix}"
      ],
      "text/plain": [
       "2-element Array{SymPy.Sym,1}\n",
       "[q_1]\n",
       "[   ]\n",
       "[q_2]"
      ]
     },
     "execution_count": 30,
     "metadata": {},
     "output_type": "execute_result"
    }
   ],
   "source": [
    "configuration_vector(statesym)[:] = [symbols(\"q_$i\", real = true) for i = 1 : num_positions(statesym)]"
   ]
  },
  {
   "cell_type": "code",
   "execution_count": 31,
   "metadata": {
    "collapsed": false
   },
   "outputs": [
    {
     "data": {
      "text/latex": [
       "\\begin{bmatrix}v_{1}\\\\v_{2}\\end{bmatrix}"
      ],
      "text/plain": [
       "2-element Array{SymPy.Sym,1}\n",
       "[v_1]\n",
       "[   ]\n",
       "[v_2]"
      ]
     },
     "execution_count": 31,
     "metadata": {},
     "output_type": "execute_result"
    }
   ],
   "source": [
    "velocity_vector(statesym)[:] = [symbols(\"v_$i\", real = true) for i = 1 : num_positions(statesym)]"
   ]
  },
  {
   "cell_type": "markdown",
   "metadata": {},
   "source": [
    "Compute the mass matrix in symbolic form:"
   ]
  },
  {
   "cell_type": "code",
   "execution_count": 32,
   "metadata": {
    "collapsed": false
   },
   "outputs": [
    {
     "data": {
      "text/latex": [
       "\\begin{bmatrix}I_{1} + I_{2} - 2 c_{2} l_{1} \\cos{\\left (q_{2} \\right )} + l_{1}^{2} m_{2}&I_{2} - c_{2} l_{1} \\cos{\\left (q_{2} \\right )}\\\\I_{2} - c_{2} l_{1} \\cos{\\left (q_{2} \\right )}&I_{2}\\end{bmatrix}"
      ],
      "text/plain": [
       "2×2 Array{SymPy.Sym,2}\n",
       "[                                    2                            ]\n",
       "[I_1 + I_2 - 2*c_2*l_1*cos(q_2) + l_1 *m_2  I_2 - c_2*l_1*cos(q_2)]\n",
       "[                                                                 ]\n",
       "[         I_2 - c_2*l_1*cos(q_2)                     I_2          ]"
      ]
     },
     "execution_count": 32,
     "metadata": {},
     "output_type": "execute_result"
    }
   ],
   "source": [
    "M = mass_matrix(statesym)\n",
    "map!(simplify, M.data) # Note: M is a Symmetric matrix type; need to simplify the underlying data\n",
    "full(M) # convert to full form so that it is pretty-printed (minor bug in SymPy.jl)"
   ]
  },
  {
   "cell_type": "markdown",
   "metadata": {},
   "source": [
    "Kinetic energy:"
   ]
  },
  {
   "cell_type": "code",
   "execution_count": 33,
   "metadata": {
    "collapsed": false
   },
   "outputs": [
    {
     "data": {
      "text/latex": [
       "$$\\frac{I_{1} v_{1}^{2}}{2} + \\frac{I_{2} v_{1}^{2}}{2} + I_{2} v_{1} v_{2} + \\frac{I_{2} v_{2}^{2}}{2} - c_{2} l_{1} v_{1}^{2} \\cos{\\left (q_{2} \\right )} - c_{2} l_{1} v_{1} v_{2} \\cos{\\left (q_{2} \\right )} + \\frac{l_{1}^{2} m_{2}}{2} v_{1}^{2}$$"
      ],
      "text/plain": [
       "       2          2                        2                                  \n",
       "I_1*v_1    I_2*v_1                  I_2*v_2               2                   \n",
       "-------- + -------- + I_2*v_1*v_2 + -------- - c_2*l_1*v_1 *cos(q_2) - c_2*l_1\n",
       "   2          2                        2                                      \n",
       "\n",
       "                       2        2\n",
       "                    l_1 *m_2*v_1 \n",
       "*v_1*v_2*cos(q_2) + -------------\n",
       "                          2      "
      ]
     },
     "execution_count": 33,
     "metadata": {},
     "output_type": "execute_result"
    }
   ],
   "source": [
    "simplify(kinetic_energy(statesym))"
   ]
  }
 ],
 "metadata": {
  "kernelspec": {
   "display_name": "Julia 0.5.0",
   "language": "julia",
   "name": "julia-0.5"
  },
  "language_info": {
   "file_extension": ".jl",
   "mimetype": "application/julia",
   "name": "julia",
   "version": "0.5.0"
  }
 },
 "nbformat": 4,
 "nbformat_minor": 1
}
