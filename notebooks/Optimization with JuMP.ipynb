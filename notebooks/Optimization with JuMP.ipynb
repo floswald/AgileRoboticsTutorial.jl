{
 "cells": [
  {
   "cell_type": "markdown",
   "metadata": {},
   "source": [
    "# Optimization with JuMP\n",
    "\n",
    "JulaOpt is a collection of Julia optimization tools, and it's one of the best parts of the Julia ecosystem. Some of the packages in JuliaOpt are:\n",
    "\n",
    "![](juliaopt.png)\n",
    "\n",
    "For today, we're just going to show off JuMP, a modeling tool designed to make it easy to efficiently specify and solve optimizations in Julia. JuMP is similar to `yalmip` (in MATLAB), `pyomo` (in Python), or AMPL. It distinguishes itself by being fast and easy to use and taking advantage of Julia's expressiveness. "
   ]
  },
  {
   "cell_type": "code",
   "execution_count": 1,
   "metadata": {
    "collapsed": false
   },
   "outputs": [],
   "source": [
    "using JuMP"
   ]
  },
  {
   "cell_type": "markdown",
   "metadata": {},
   "source": [
    "Creating a model in JuMP is easy:"
   ]
  },
  {
   "cell_type": "code",
   "execution_count": 2,
   "metadata": {
    "collapsed": false
   },
   "outputs": [
    {
     "data": {
      "text/latex": [
       "$$ \\begin{alignat*}{1}\\min\\quad & 0\\\\\n",
       "\\text{Subject to} \\quad\\end{alignat*}\n",
       " $$"
      ],
      "text/plain": [
       "Feasibility problem with:\n",
       " * 0 linear constraints\n",
       " * 0 variables\n",
       "Solver is default solver"
      ]
     },
     "execution_count": 2,
     "metadata": {},
     "output_type": "execute_result"
    }
   ],
   "source": [
    "model = Model()"
   ]
  },
  {
   "cell_type": "markdown",
   "metadata": {},
   "source": [
    "We add variables to the model with the `@variable` macro. Having a macro is useful because it can create variables inside the model and also, conveniently, create matching local variables in Julia:"
   ]
  },
  {
   "cell_type": "code",
   "execution_count": 3,
   "metadata": {
    "collapsed": false
   },
   "outputs": [
    {
     "data": {
      "text/latex": [
       "$$ \\begin{alignat*}{1}\\min\\quad & 0\\\\\n",
       "\\text{Subject to} \\quad & x_{i} free \\quad\\forall i \\in \\{1,2\\}\\\\\n",
       "\\end{alignat*}\n",
       " $$"
      ],
      "text/plain": [
       "Feasibility problem with:\n",
       " * 0 linear constraints\n",
       " * 2 variables\n",
       "Solver is default solver"
      ]
     },
     "execution_count": 3,
     "metadata": {},
     "output_type": "execute_result"
    }
   ],
   "source": [
    "@variable(model, x[1:2])\n",
    "\n",
    "model"
   ]
  },
  {
   "cell_type": "code",
   "execution_count": 4,
   "metadata": {
    "collapsed": false
   },
   "outputs": [
    {
     "data": {
      "text/plain": [
       "Array{JuMP.Variable,1}"
      ]
     },
     "execution_count": 4,
     "metadata": {},
     "output_type": "execute_result"
    }
   ],
   "source": [
    "typeof(x)"
   ]
  },
  {
   "cell_type": "markdown",
   "metadata": {},
   "source": [
    "Let's add a simple objective:"
   ]
  },
  {
   "cell_type": "code",
   "execution_count": 5,
   "metadata": {
    "collapsed": false
   },
   "outputs": [
    {
     "data": {
      "text/latex": [
       "$$ \\begin{alignat*}{1}\\min\\quad & x_{1}^2 + x_{2}^2\\\\\n",
       "\\text{Subject to} \\quad & x_{i} free \\quad\\forall i \\in \\{1,2\\}\\\\\n",
       "\\end{alignat*}\n",
       " $$"
      ],
      "text/plain": [
       "Minimization problem with:\n",
       " * 0 linear constraints\n",
       " * 2 variables\n",
       "Solver is default solver"
      ]
     },
     "execution_count": 5,
     "metadata": {},
     "output_type": "execute_result"
    }
   ],
   "source": [
    "@objective(model, Min, sum(x.^2))\n",
    "model"
   ]
  },
  {
   "cell_type": "markdown",
   "metadata": {},
   "source": [
    "Now we can solve the model. JuMP will automatically try to choose a good solver for your problem based on what you have installed. You can always override this choice if you want. "
   ]
  },
  {
   "cell_type": "code",
   "execution_count": 6,
   "metadata": {
    "collapsed": false
   },
   "outputs": [
    {
     "name": "stdout",
     "output_type": "stream",
     "text": [
      "Optimize a model with 0 rows, 2 columns and 0 nonzeros\n",
      "Model has 2 quadratic objective terms\n",
      "Coefficient statistics:\n",
      "  Matrix range     [0e+00, 0e+00]\n",
      "  Objective range  [0e+00, 0e+00]\n",
      "  QObjective range [2e+00, 2e+00]\n",
      "  Bounds range     [0e+00, 0e+00]\n",
      "  RHS range        [0e+00, 0e+00]\n",
      "Presolve removed 0 rows and 2 columns\n",
      "Presolve time: 0.00s\n",
      "Presolve: All rows and columns removed\n",
      "\n",
      "Barrier solved model in 0 iterations and 0.00 seconds\n",
      "Optimal objective 0.00000000e+00\n"
     ]
    },
    {
     "data": {
      "text/plain": [
       ":Optimal"
      ]
     },
     "execution_count": 6,
     "metadata": {},
     "output_type": "execute_result"
    }
   ],
   "source": [
    "solve(model)"
   ]
  },
  {
   "cell_type": "markdown",
   "metadata": {},
   "source": [
    "And we can retrieve the solution:"
   ]
  },
  {
   "cell_type": "code",
   "execution_count": 7,
   "metadata": {
    "collapsed": false
   },
   "outputs": [
    {
     "data": {
      "text/plain": [
       "2-element Array{Float64,1}:\n",
       " -0.0\n",
       " -0.0"
      ]
     },
     "execution_count": 7,
     "metadata": {},
     "output_type": "execute_result"
    }
   ],
   "source": [
    "getvalue(x)"
   ]
  },
  {
   "cell_type": "markdown",
   "metadata": {},
   "source": [
    "That's a pretty boring model. Let's constrain the optimization:"
   ]
  },
  {
   "cell_type": "code",
   "execution_count": 8,
   "metadata": {
    "collapsed": false
   },
   "outputs": [
    {
     "data": {
      "text/latex": [
       "$$ \\begin{alignat*}{1}\\min\\quad & x_{1}^2 + x_{2}^2\\\\\n",
       "\\text{Subject to} \\quad & x_{1} - 2 x_{2} \\geq 0\\\\\n",
       " & x_{2} \\geq 1\\\\\n",
       " & x_{i} free \\quad\\forall i \\in \\{1,2\\}\\\\\n",
       "\\end{alignat*}\n",
       " $$"
      ],
      "text/plain": [
       "Minimization problem with:\n",
       " * 2 linear constraints\n",
       " * 2 variables\n",
       "Solver is default solver"
      ]
     },
     "execution_count": 8,
     "metadata": {},
     "output_type": "execute_result"
    }
   ],
   "source": [
    "@constraints model begin\n",
    "    x[1] >= 2 * x[2]\n",
    "    x[2] >= 1\n",
    "end\n",
    "model"
   ]
  },
  {
   "cell_type": "code",
   "execution_count": 9,
   "metadata": {
    "collapsed": false
   },
   "outputs": [
    {
     "name": "stdout",
     "output_type": "stream",
     "text": [
      "Optimize a model with 2 rows, 2 columns and 3 nonzeros\n",
      "Model has 2 quadratic objective terms\n",
      "Coefficient statistics:\n",
      "  Matrix range     [1e+00, 2e+00]\n",
      "  Objective range  [0e+00, 0e+00]\n",
      "  QObjective range [2e+00, 2e+00]\n",
      "  Bounds range     [0e+00, 0e+00]\n",
      "  RHS range        [1e+00, 1e+00]\n",
      "Presolve removed 2 rows and 2 columns\n",
      "Presolve time: 0.00s\n",
      "Presolve: All rows and columns removed\n",
      "\n",
      "Barrier solved model in 0 iterations and 0.00 seconds\n",
      "Optimal objective 5.00000000e+00\n"
     ]
    },
    {
     "data": {
      "text/plain": [
       "2-element Array{Float64,1}:\n",
       " 2.0\n",
       " 1.0"
      ]
     },
     "execution_count": 9,
     "metadata": {},
     "output_type": "execute_result"
    }
   ],
   "source": [
    "solve(model)\n",
    "getvalue(x)"
   ]
  },
  {
   "cell_type": "markdown",
   "metadata": {},
   "source": [
    "That was easy. But it's still not a very interesting optimization. How about something more robotics-y? \n",
    "\n",
    "## Model-Predictive Control in JuMP\n",
    "\n",
    "Let's implement a very simple model-predictive control (MPC) optimization in JuMP. Specifically, we'll write an optimization that tries to find a sequence of control inputs for a very simple model robot in order to optimize an objective function. \n",
    "\n",
    "More concretely, our model will be a brick, sliding frictionlessly in two dimensions. Our input will be the acceleration of the brick, and we'll try to minimize the brick's final velocity and distance from the origin. "
   ]
  },
  {
   "cell_type": "code",
   "execution_count": 10,
   "metadata": {
    "collapsed": false
   },
   "outputs": [
    {
     "name": "stdout",
     "output_type": "stream",
     "text": [
      "Optimize a model with 80 rows, 121 columns and 232 nonzeros\n",
      "Model has 1 quadratic constraint\n",
      "Coefficient statistics:\n",
      "  Matrix range     [1e-01, 1e+00]\n",
      "  QMatrix range    [1e+00, 1e+00]\n",
      "  Objective range  [1e+00, 1e+00]\n",
      "  Bounds range     [5e-01, 5e-01]\n",
      "  RHS range        [1e+00, 1e+00]\n",
      "Presolve removed 74 rows and 76 columns\n",
      "Presolve time: 0.00s\n",
      "Presolved: 6 rows, 45 columns, 82 nonzeros\n",
      "Presolved model has 1 second-order cone constraint\n",
      "Ordering time: 0.00s\n",
      "\n",
      "Barrier statistics:\n",
      " AA' NZ     : 1.000e+01\n",
      " Factor NZ  : 2.100e+01\n",
      " Factor Ops : 9.100e+01 (less than 1 second per iteration)\n",
      " Threads    : 1\n",
      "\n",
      "                  Objective                Residual\n",
      "Iter       Primal          Dual         Primal    Dual     Compl     Time\n",
      "   0   1.38876792e+00 -6.40190000e-01  1.71e+01 1.00e-01  1.37e-01     0s\n",
      "   1   2.89543765e-01 -2.99130110e-01  3.00e+00 5.03e-05  2.53e-02     0s\n",
      "   2   2.53374510e-01  6.50375538e-01  1.84e+00 6.00e-08  1.08e-02     0s\n",
      "   3   7.11400631e-01  7.93178323e-01  8.51e-01 2.13e-08  6.33e-03     0s\n",
      "   4   8.88494456e-01  9.35872451e-01  4.42e-01 1.12e-08  3.60e-03     0s\n",
      "   5   9.61262250e-01  1.02605294e+00  2.92e-01 6.12e-09  2.18e-03     0s\n",
      "   6   1.00878834e+00  1.08523141e+00  2.02e-01 2.83e-09  1.27e-03     0s\n",
      "   7   1.03789700e+00  1.11797909e+00  1.51e-01 4.15e-10  7.03e-04     0s\n",
      "   8   1.11695399e+00  1.12646338e+00  2.57e-02 2.64e-10  1.81e-04     0s\n",
      "   9   1.13125789e+00  1.13244916e+00  2.22e-03 3.91e-12  1.12e-05     0s\n",
      "  10   1.13193306e+00  1.13261054e+00  1.02e-03 7.99e-15  4.30e-06     0s\n",
      "  11   1.13271349e+00  1.13270228e+00  3.44e-05 9.10e-15  5.76e-07     0s\n",
      "  12   1.13271786e+00  1.13271674e+00  5.48e-08 2.84e-13  1.42e-08     0s\n",
      "\n",
      "Barrier solved model in 12 iterations and 0.00 seconds\n",
      "Optimal objective 1.13271786e+00\n",
      "\n"
     ]
    },
    {
     "data": {
      "text/plain": [
       ":Optimal"
      ]
     },
     "execution_count": 10,
     "metadata": {},
     "output_type": "execute_result"
    }
   ],
   "source": [
    "model = Model()\n",
    "\n",
    "# Define our constant parameters\n",
    "Δt = 0.1\n",
    "num_time_steps = 20\n",
    "max_acceleration = 0.5\n",
    "\n",
    "# Define our decision variables\n",
    "@variables model begin\n",
    "    position[1:2, 1:num_time_steps]\n",
    "    velocity[1:2, 1:num_time_steps]\n",
    "    -max_acceleration <= acceleration[1:2, 1:num_time_steps] <= max_acceleration\n",
    "end\n",
    "\n",
    "# Add dynamics constraints\n",
    "@constraint(model, [i=2:num_time_steps, j=1:2],\n",
    "            velocity[j, i] == velocity[j, i - 1] + acceleration[j, i - 1] * Δt)\n",
    "@constraint(model, [i=2:num_time_steps, j=1:2],\n",
    "            position[j, i] == position[j, i - 1] + velocity[j, i - 1] * Δt)\n",
    "\n",
    "# Cost function: minimize final position and final velocity\n",
    "@variable(model, slack >= 0)\n",
    "objective_vars = vcat(position[:, end], velocity[:, end])\n",
    "@constraint(model, objective_vars' * objective_vars .<= slack^2)\n",
    "@objective(model, Min, slack)\n",
    "\n",
    "# Initial conditions:\n",
    "@constraint(model, position[:, 1] .== [1, 0])\n",
    "@constraint(model, velocity[:, 1] .== [0, -1])\n",
    "\n",
    "solve(model)"
   ]
  },
  {
   "cell_type": "code",
   "execution_count": 11,
   "metadata": {
    "collapsed": false
   },
   "outputs": [
    {
     "data": {
      "text/plain": [
       "2×20 Array{Float64,2}:\n",
       " -0.5  -0.5  -0.5  -0.5  -0.5  …  0.499999  0.5       0.5       -0.5\n",
       "  0.5   0.5   0.5   0.5   0.5     0.5       0.499999  0.499999  -0.5"
      ]
     },
     "execution_count": 11,
     "metadata": {},
     "output_type": "execute_result"
    }
   ],
   "source": [
    "# Extract the solution from the model\n",
    "q = getvalue(position)\n",
    "v = getvalue(velocity)\n",
    "u = getvalue(acceleration)"
   ]
  },
  {
   "cell_type": "markdown",
   "metadata": {},
   "source": [
    "### Drawing the Result\n",
    "\n",
    "We can draw the output of the optimization using the `Plots.jl` package"
   ]
  },
  {
   "cell_type": "code",
   "execution_count": 12,
   "metadata": {
    "collapsed": false
   },
   "outputs": [
    {
     "data": {
      "text/plain": [
       "Plots.GRBackend()"
      ]
     },
     "execution_count": 12,
     "metadata": {},
     "output_type": "execute_result"
    }
   ],
   "source": [
    "using Plots\n",
    "# Use the GR backend for Plots.jl, because it's fast\n",
    "gr()"
   ]
  },
  {
   "cell_type": "code",
   "execution_count": 13,
   "metadata": {
    "collapsed": false
   },
   "outputs": [
    {
     "name": "stderr",
     "output_type": "stream",
     "text": [
      "\u001b[1m\u001b[34mINFO: Saved animation to /Users/rdeits/locomotion/explorations/Robocon2017Tutorial.jl/notebooks/tmp.gif\n",
      "\u001b[0m"
     ]
    },
    {
     "data": {
      "text/html": [
       "<img src=\"tmp.gif?0.33198081699575566>\" />"
      ],
      "text/plain": [
       "Plots.AnimatedGif(\"/Users/rdeits/locomotion/explorations/Robocon2017Tutorial.jl/notebooks/tmp.gif\")"
      ]
     },
     "execution_count": 13,
     "metadata": {},
     "output_type": "execute_result"
    }
   ],
   "source": [
    "# The @gif macro creates an animate plot, which lets us draw the\n",
    "# optimized trajectory of the brick as a function of time\n",
    "@gif for i = 1:num_time_steps\n",
    "    plot(q[1, :], q[2, :], xlim=(-1.1, 1.1), ylim=(-1.1, 1.1))\n",
    "    plot!([q[1, i]], [q[2, i]], marker=(:hex, 6))\n",
    "end"
   ]
  },
  {
   "cell_type": "markdown",
   "metadata": {},
   "source": [
    "## Running the MPC Controller\n",
    "\n",
    "In a real application, we wouldn't just run the MPC optimization once. Instead, we might run the optimization at every time step using the robot's current state. \n",
    "\n",
    "To do that, let's wrap the MPC problem in a function called `run_mpc()` that takes the robot's current position and velocity as input:"
   ]
  },
  {
   "cell_type": "code",
   "execution_count": 14,
   "metadata": {
    "collapsed": false
   },
   "outputs": [
    {
     "data": {
      "text/plain": [
       "run_mpc (generic function with 1 method)"
      ]
     },
     "execution_count": 14,
     "metadata": {},
     "output_type": "execute_result"
    }
   ],
   "source": [
    "if Pkg.installed(\"Gurobi\") !== nothing\n",
    "    # Prefer Gurobi if it's available\n",
    "    using Gurobi\n",
    "    solver = GurobiSolver(OutputFlag=0)\n",
    "else\n",
    "    using ECOS\n",
    "    solver = ECOSSolver(verbose=0)\n",
    "end\n",
    "\n",
    "# run_mpc() takes the robot's current position and velocity\n",
    "# and returns an optimized trajectory of position, velocity, \n",
    "# and acceleration. \n",
    "function run_mpc(initial_position, initial_velocity)\n",
    "    \n",
    "    model = Model(solver=solver)\n",
    "\n",
    "    Δt = 0.1\n",
    "    num_time_steps = 10\n",
    "    max_acceleration = 0.5\n",
    "\n",
    "    @variables model begin\n",
    "        position[1:2, 1:num_time_steps]\n",
    "        velocity[1:2, 1:num_time_steps]\n",
    "        -max_acceleration <= acceleration[1:2, 1:num_time_steps] <= max_acceleration\n",
    "    end\n",
    "\n",
    "    # Dynamics constraints\n",
    "    @constraint(model, [i=2:num_time_steps, j=1:2],\n",
    "                velocity[j, i] == velocity[j, i - 1] + acceleration[j, i - 1] * Δt)\n",
    "    @constraint(model, [i=2:num_time_steps, j=1:2],\n",
    "                position[j, i] == position[j, i - 1] + velocity[j, i - 1] * Δt)\n",
    "\n",
    "    # Cost function: minimize final position and final velocity\n",
    "    @variable(model, slack >= 0)\n",
    "    objective_vars = vcat(position[:, end], velocity[:, end])\n",
    "    @constraint(model, objective_vars' * objective_vars .<= slack^2)\n",
    "    @objective(model, Min, slack)\n",
    "\n",
    "    # Initial conditions:\n",
    "    @constraint(model, position[:, 1] .== initial_position)\n",
    "    @constraint(model, velocity[:, 1] .== initial_velocity)\n",
    "\n",
    "    solve(model)\n",
    "    return getvalue(position), getvalue(velocity), getvalue(acceleration)\n",
    "end"
   ]
  },
  {
   "cell_type": "markdown",
   "metadata": {},
   "source": [
    "We can demonstrate this by repeatedly running the MPC program, applying its planned acceleration to the brick, and then simulating one step forward in time:"
   ]
  },
  {
   "cell_type": "code",
   "execution_count": 15,
   "metadata": {
    "collapsed": false
   },
   "outputs": [
    {
     "name": "stderr",
     "output_type": "stream",
     "text": [
      "\u001b[1m\u001b[34mINFO: Saved animation to /Users/rdeits/locomotion/explorations/Robocon2017Tutorial.jl/notebooks/tmp.gif\n",
      "\u001b[0m"
     ]
    },
    {
     "data": {
      "text/html": [
       "<img src=\"tmp.gif?0.5004021101700324>\" />"
      ],
      "text/plain": [
       "Plots.AnimatedGif(\"/Users/rdeits/locomotion/explorations/Robocon2017Tutorial.jl/notebooks/tmp.gif\")"
      ]
     },
     "execution_count": 15,
     "metadata": {},
     "output_type": "execute_result"
    }
   ],
   "source": [
    "# The robot's starting position and velocity\n",
    "q = [1.0, 0.0]\n",
    "v = [0.0, -1.0]\n",
    "\n",
    "@gif for i in 1:80\n",
    "    # Plot the current position\n",
    "    plot([q[1]], [q[2]], marker=(:hex, 10), xlim=(-1.1, 1.1), ylim=(-1.1, 1.1))\n",
    "    \n",
    "    # Run the MPC control optimization\n",
    "    q_plan, v_plan, u_plan = run_mpc(q, v)\n",
    "    \n",
    "    # Draw the planned future states from the MPC optimization\n",
    "    plot!(q_plan[1, :], q_plan[2, :], linewidth=5)\n",
    "    \n",
    "    # Apply the planned acceleration and simulate one step in time\n",
    "    u = u_plan[:, 1]\n",
    "    v += u * Δt\n",
    "    q += v * Δt\n",
    "end"
   ]
  },
  {
   "cell_type": "code",
   "execution_count": null,
   "metadata": {
    "collapsed": true
   },
   "outputs": [],
   "source": []
  }
 ],
 "metadata": {
  "kernelspec": {
   "display_name": "Julia 0.5.0",
   "language": "julia",
   "name": "julia-0.5"
  },
  "language_info": {
   "file_extension": ".jl",
   "mimetype": "application/julia",
   "name": "julia",
   "version": "0.5.0"
  }
 },
 "nbformat": 4,
 "nbformat_minor": 2
}
