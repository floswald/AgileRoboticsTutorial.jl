{
 "cells": [
  {
   "cell_type": "markdown",
   "metadata": {},
   "source": [
    "Julia is built around the concept of *multiple dispatch*. Multiple dispatch means that when you call a function \n",
    "\n",
    "```juila\n",
    "f(a, b, c)\n",
    "```\n",
    "\n",
    "Julia chooses *which implementation* of the function `f` to call based on the types of `a`, `b`, and `c`. Compare this with Python, in which\n",
    "\n",
    "```python\n",
    "# python\n",
    "f(a, b, c)\n",
    "```\n",
    "\n",
    "always calls the same function `f` for any `a`, `b`, and `c`, or\n",
    "\n",
    "```python\n",
    "# python\n",
    "a.f(b, c)\n",
    "```\n",
    "\n",
    "which chooses the version of `f` based on the class of `a`, but not `b` or `c`. \n",
    "\n",
    "This allows us to do some really cool things in Julia that would be difficult in other languages. As an example, let's show off building a very primitive symbolic math tool. "
   ]
  },
  {
   "cell_type": "code",
   "execution_count": null,
   "metadata": {
    "collapsed": true
   },
   "outputs": [],
   "source": []
  }
 ],
 "metadata": {
  "kernelspec": {
   "display_name": "Julia 0.5.0",
   "language": "julia",
   "name": "julia-0.5"
  },
  "language_info": {
   "file_extension": ".jl",
   "mimetype": "application/julia",
   "name": "julia",
   "version": "0.5.0"
  }
 },
 "nbformat": 4,
 "nbformat_minor": 1
}
